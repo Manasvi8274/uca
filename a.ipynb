{
 "cells": [
  {
   "cell_type": "code",
   "execution_count": null,
   "metadata": {},
   "outputs": [],
   "source": []
  },
  {
   "cell_type": "code",
   "execution_count": 1,
   "metadata": {},
   "outputs": [
    {
     "name": "stdout",
     "output_type": "stream",
     "text": [
      "ji\n"
     ]
    }
   ],
   "source": [
    "print(\"ji\")"
   ]
  },
  {
   "cell_type": "code",
   "execution_count": null,
   "metadata": {},
   "outputs": [
    {
     "name": "stdout",
     "output_type": "stream",
     "text": [
      "{1: 4, 2: 4, 3: 2, 4: 4, 5: 1, 6: 1, 23: 1, 12: 1, 313: 1, 42: 1}\n"
     ]
    }
   ],
   "source": [
    "for _ in range(int(input())):\n",
    "    n=int(input())\n",
    "    s=input()\n",
    "    ans=0\n",
    "    for i in range(1,n):\n",
    "        if(s[i-1] == '1'  and s[i] == '0'):\n",
    "            ans+=2\n",
    "    if(s[-1] == '1'):\n",
    "        ans+=1\n",
    "    print(ans)\n",
    "    continue"
   ]
  },
  {
   "cell_type": "code",
   "execution_count": 2,
   "metadata": {},
   "outputs": [
    {
     "name": "stdout",
     "output_type": "stream",
     "text": [
      "321\n"
     ]
    }
   ],
   "source": [
    "s=\"123\"\n",
    "s=s[::-1]\n",
    "print(s)"
   ]
  },
  {
   "cell_type": "code",
   "execution_count": 1,
   "metadata": {},
   "outputs": [
    {
     "name": "stdout",
     "output_type": "stream",
     "text": [
      "jo\n"
     ]
    }
   ],
   "source": [
    "print(\"jo\")"
   ]
  },
  {
   "cell_type": "code",
   "execution_count": null,
   "metadata": {},
   "outputs": [],
   "source": []
  },
  {
   "cell_type": "code",
   "execution_count": 2,
   "metadata": {},
   "outputs": [
    {
     "name": "stdout",
     "output_type": "stream",
     "text": [
      "['unicomp6.unicomp.net', '-', '-', '[01/Jul/1995:00:00:06', '-0400]', '\\\\\"GET', '/shuttle/countdown/', 'HTTP/1.0\\\\\"', '200', '3985']\n",
      "['burger.letters.com', '-', '-', '[01/Jul/1995:00:00:11', '-0400]', '\\\\\"GET', '/shuttle/countdown/video/ltrevideo.gif', 'HTTP/1.0\\\\\"', '200', '0']\n",
      "['d104.aa.net', '-', '-', '[01/Jul/1995:00:00:13', '-0400]', '\\\\\"GET', '/shuttle/countdown/', 'HTTP/1.0\\\\\"', '200', '3985']\n",
      "['unicomp6.unicomp.net', '-', '-', '[01/Jul/1995:00:00:14', '-0400]', '\\\\\"GET', '/images/NASA-logosmall.gif', 'HTTP/1.0\\\\\"', '200', '786']\n",
      "['unicomp6.unicomp.net', '-', '-', '[01/Jul/1995:00:00:14', '-0400]', '\\\\\"GET', '/images/KSC-logosmall.gif', 'HTTP/1.0\\\\\"', '200', '1204']\n",
      "['d104.aa.net', '-', '-', '[01/Jul/1995:00:00:15', '-0400]', '\\\\\"GET', '/shuttle/countdown/', 'HTTP/1.0\\\\\"', '200', '3985']\n",
      "['burger.letters.com', '-', '-', '[01/Jul/1995:00:00:16', '-0400]', '\\\\\"GET', '/shuttle/countdown/video/ltrevideo.gif', 'HTTP/1.0\\\\\"', '200', '0']\n",
      "['burger.letters.com', '-', '-', '[01/Jul/1995:00:00:17', '-0400]', '\\\\\"GET', '/shuttle/countdown/video/ltrevideo.gif', 'HTTP/1.0\\\\\"', '200Â\\xa00']\n"
     ]
    }
   ],
   "source": [
    "f=open(\"load_dataset.txt\",\"r\")\n",
    "data = f.read()\n",
    "data = data.split(\"\\n\")\n",
    "for i in range(len(data)):\n",
    "    data[i] = data[i].split(\" \")\n",
    "\n",
    "for i in data:\n",
    "    print(i)\n",
    "\n",
    "d={}\n",
    "for i in data:\n",
    "    if(i[0] not in d):\n",
    "        d[i[0]]=1\n",
    "    else:\n",
    "        d[i[0]]+=1\n",
    "\n",
    "l1 = []\n",
    "for i in d:\n",
    "    l1.append(i + \" \" + str(d[i]))\n",
    "\n",
    "# print(l1)\n",
    "f.close()\n",
    "\n",
    "with open(\"result.txt\",\"w\") as file:\n",
    "    for i in l1:\n",
    "        file.write(str(i)+\"\\n\")\n",
    "file.close()"
   ]
  },
  {
   "cell_type": "code",
   "execution_count": null,
   "metadata": {},
   "outputs": [],
   "source": [
    "ans=0\n",
    "straight=True\n",
    "for i in positions:\n",
    "    if(i != \"A\"):\n",
    "        straight = not straight\n",
    "    if(straight):\n",
    "        ans+=1\n",
    "return ans"
   ]
  },
  {
   "cell_type": "code",
   "execution_count": 11,
   "metadata": {},
   "outputs": [
    {
     "name": "stdout",
     "output_type": "stream",
     "text": [
      "9\n"
     ]
    }
   ],
   "source": [
    "left=[1,2,3,4]\n",
    "right=[10,3,4,5]\n",
    "left.sort()\n",
    "right.sort()\n",
    "ln=len(left)\n",
    "d={}\n",
    "ans=0\n",
    "for i in range(ln):\n",
    "    x=left[i]\n",
    "    y=right[i]\n",
    "    z=x\n",
    "    for j in range(x,y+1):\n",
    "        if(j not in d):\n",
    "            d[j]=1\n",
    "        else:\n",
    "            z=j\n",
    "    ans+=y-z\n",
    "print(ans)"
   ]
  },
  {
   "cell_type": "code",
   "execution_count": 29,
   "metadata": {},
   "outputs": [
    {
     "name": "stdout",
     "output_type": "stream",
     "text": [
      "8\n"
     ]
    }
   ],
   "source": [
    "s=input()\n",
    "ans=0\n",
    "i=0\n",
    "j=0\n",
    "n=len(s)\n",
    "d={}\n",
    "while(j<n):\n",
    "    if(s[j] not in d):\n",
    "        d[s[j]]=1\n",
    "        ans+=j-i+1\n",
    "    else:\n",
    "        while(d[s[j]] > 0):\n",
    "            d[s[i]]-=1\n",
    "            i+=1\n",
    "        d[s[j]]=1\n",
    "        ans+=j-i+1\n",
    "    j+=1\n",
    "print(ans)"
   ]
  },
  {
   "cell_type": "code",
   "execution_count": null,
   "metadata": {},
   "outputs": [
    {
     "ename": "TypeError",
     "evalue": "list indices must be integers or slices, not str",
     "output_type": "error",
     "traceback": [
      "\u001b[1;31m---------------------------------------------------------------------------\u001b[0m",
      "\u001b[1;31mTypeError\u001b[0m                                 Traceback (most recent call last)",
      "Cell \u001b[1;32mIn[12], line 16\u001b[0m\n\u001b[0;32m     13\u001b[0m l\u001b[38;5;241m=\u001b[39m[\u001b[38;5;241m0\u001b[39m]\u001b[38;5;241m*\u001b[39m(m\u001b[38;5;241m-\u001b[39m\u001b[38;5;241m1\u001b[39m)\n\u001b[0;32m     15\u001b[0m \u001b[38;5;28;01mfor\u001b[39;00m i \u001b[38;5;129;01min\u001b[39;00m queries:\n\u001b[1;32m---> 16\u001b[0m     \u001b[43ml\u001b[49m\u001b[43m[\u001b[49m\u001b[43md\u001b[49m\u001b[43m[\u001b[49m\u001b[43mi\u001b[49m\u001b[43m]\u001b[49m\u001b[43m[\u001b[49m\u001b[38;5;241;43m0\u001b[39;49m\u001b[43m]\u001b[49m\u001b[43m]\u001b[49m\u001b[38;5;241m+\u001b[39m\u001b[38;5;241m=\u001b[39m\u001b[38;5;241m1\u001b[39m\n\u001b[0;32m     17\u001b[0m     \u001b[38;5;28mprint\u001b[39m(d[i][\u001b[38;5;241m1\u001b[39m],l[d[i][\u001b[38;5;241m0\u001b[39m]])\n",
      "\u001b[1;31mTypeError\u001b[0m: list indices must be integers or slices, not str"
     ]
    }
   ],
   "source": [
    "m=int(input())\n",
    "arr=[]\n",
    "data=int(input())\n",
    "for i in range(data):\n",
    "    arr.append([i for i in input().split()])\n",
    "d={}\n",
    "count={}\n",
    "for i in arr:\n",
    "    d[i[1]]=[int(i[0]) , i[2]]\n",
    "q=int(input())\n",
    "queries=list(map(str,input().split()))\n",
    "\n",
    "l=[0]*(m-1)\n",
    "\n",
    "for i in queries:\n",
    "    l[d[i][0]]+=1\n",
    "    print(d[i][1],l[d[i][0]])\n"
   ]
  },
  {
   "cell_type": "code",
   "execution_count": null,
   "metadata": {},
   "outputs": [],
   "source": []
  }
 ],
 "metadata": {
  "kernelspec": {
   "display_name": "Python 3",
   "language": "python",
   "name": "python3"
  },
  "language_info": {
   "codemirror_mode": {
    "name": "ipython",
    "version": 3
   },
   "file_extension": ".py",
   "mimetype": "text/x-python",
   "name": "python",
   "nbconvert_exporter": "python",
   "pygments_lexer": "ipython3",
   "version": "3.11.9"
  }
 },
 "nbformat": 4,
 "nbformat_minor": 2
}

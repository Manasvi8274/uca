{
 "cells": [
  {
   "cell_type": "code",
   "execution_count": null,
   "metadata": {},
   "outputs": [],
   "source": []
  },
  {
   "cell_type": "code",
   "execution_count": null,
   "metadata": {},
   "outputs": [],
   "source": [
    "for _ in range(int(input())):\n",
    "    n=int(input())\n",
    "    l=list(map(int,input().split()))\n",
    "    c=n\n",
    "    ans=0\n",
    "    count=0\n",
    "    count1=0\n",
    "    for i in range(1,n):\n",
    "        if(count == 0 and count1==0):\n",
    "            count+=1\n",
    "            count1+=1\n",
    "            continue\n",
    "        if(count < l[-i]):\n",
    "            count+=1\n",
    "            continue\n",
    "        if(count1 < l[-i]):\n",
    "            count1+=1\n",
    "            continue\n",
    "        if(count == l[-i] or count1 == l[-i]):\n",
    "            ans=0\n",
    "            count=0\n",
    "            count1=0\n",
    "            continue\n",
    "        if(count > l[-i]):\n",
    "            ans+= count-l[-i]\n",
    "            count1+=1\n",
    "            count=0\n",
    "    print(count + ans)\n",
    "        "
   ]
  }
 ],
 "metadata": {
  "kernelspec": {
   "display_name": "Python 3",
   "language": "python",
   "name": "python3"
  },
  "language_info": {
   "codemirror_mode": {
    "name": "ipython",
    "version": 3
   },
   "file_extension": ".py",
   "mimetype": "text/x-python",
   "name": "python",
   "nbconvert_exporter": "python",
   "pygments_lexer": "ipython3",
   "version": "3.11.9"
  }
 },
 "nbformat": 4,
 "nbformat_minor": 2
}

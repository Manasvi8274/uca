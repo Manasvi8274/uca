{
 "cells": [
  {
   "cell_type": "code",
   "execution_count": null,
   "metadata": {},
   "outputs": [],
   "source": [
    "import math\n",
    "# print(\"{:.6f}\".format(round(1/2,2)))\n",
    "x=1/2.0\n",
    "x1 = '%.10f' % x\n",
    "print(x1)"
   ]
  },
  {
   "cell_type": "code",
   "execution_count": null,
   "metadata": {},
   "outputs": [],
   "source": [
    "print(0.50000001 == 0.50000000001)\n",
    "print(len(\"05000000075\"))\n",
    "print(len(\"50000000001\"))"
   ]
  },
  {
   "cell_type": "code",
   "execution_count": null,
   "metadata": {},
   "outputs": [],
   "source": [
    "for _  in range(int(input())):\n",
    "    x = input()\n",
    "    if(x == \"Inf\"):\n",
    "        print(0)\n",
    "    elif(x == \"nan\"):\n",
    "        print(\"NaN\")\n",
    "    elif(x == \"+0\" or x == \"-0\"):\n",
    "        print(\"inf\")\n",
    "    else:\n",
    "        x1 = float(x)\n",
    "        print(type(x1))\n",
    "        print('%.6f'% 1/x1)"
   ]
  },
  {
   "cell_type": "code",
   "execution_count": null,
   "metadata": {},
   "outputs": [],
   "source": [
    "for _ in range(int(input())):\n",
    "    n=int(input())\n",
    "    l=list(map(int,input().split()))\n",
    "    x,y = 0,0\n",
    "    for i in range(1,n):\n",
    "        if(l[i-1] == 1 and l[i] == 0):\n",
    "            x = i-1\n",
    "            y = i\n",
    "            break\n",
    "    print(\"READ\",y)\n",
    "    s=input()\n",
    "    print(\"READ\",x)\n",
    "    s=input()\n",
    "    print(\"OUTPUT\",x)"
   ]
  },
  {
   "cell_type": "code",
   "execution_count": null,
   "metadata": {},
   "outputs": [],
   "source": [
    "for _ in range(int(input())):\n",
    "    n,k = map(int,input().split())\n",
    "    s = input()\n",
    "    plus = 1\n",
    "    ans = 0\n",
    "    for i in s:\n",
    "        if( i == 'U'):\n",
    "            ans+=plus\n",
    "        elif(i == 'S'):\n",
    "            ans+=2*plus\n",
    "        elif(i == 'R'):\n",
    "            # ans+=plus\n",
    "            plus = -plus\n",
    "    if(plus==1):\n",
    "        print(ans%n +plus)\n",
    "    else:\n",
    "        # print(ans%3 +plus)\n",
    "        print((n+ans)%n+n if (n+ans)%n ==0 else (n+ans)%n)"
   ]
  },
  {
   "cell_type": "code",
   "execution_count": null,
   "metadata": {},
   "outputs": [],
   "source": [
    "for _ in range(int(input())):\n",
    "    n,k = map(int,input().split())\n",
    "    l = list(map(int,input().split()))\n",
    "    l.sort()\n",
    "    if(k == 1):\n",
    "        print(l[-2],l[-2])\n",
    "        continue\n",
    "    mn=0\n",
    "    mx=0\n",
    "    mn = sum(l[:k-1]) + l[-k-1]\n",
    "    i = n-2\n",
    "    while(i>=0 and k>0):\n",
    "        mx += l[i]\n",
    "        i-=2\n",
    "        k-=1\n",
    "    print(mn,mx)"
   ]
  },
  {
   "cell_type": "code",
   "execution_count": null,
   "metadata": {},
   "outputs": [],
   "source": [
    "for _ in range(int(input())):\n",
    "    n=int(input())\n",
    "    rev = 0\n",
    "    i=0\n",
    "    mn = n\n",
    "    while(n>0):\n",
    "        d=n%10\n",
    "        n=n//10\n",
    "        mn = min(mn , n*pow(10,i) + rev)\n",
    "        rev = d*pow(10,i) +rev\n",
    "        i+=1\n",
    "    print(mn)"
   ]
  },
  {
   "cell_type": "code",
   "execution_count": null,
   "metadata": {},
   "outputs": [],
   "source": [
    "for _ in range(int(input())):\n",
    "    l1=list(map(int,input().split()))\n",
    "    l2=list(map(int,input().split()))\n",
    "    l3=list(map(int,input().split()))\n",
    "    flag1 = True\n",
    "    flag2 = True\n",
    "    flag3 = True\n",
    "    flag4 = True\n",
    "    flag5 = True\n",
    "    flag6 = True\n",
    "    for i in range(3):\n",
    "        if(not((l1[i]>=l2[i] and l2[i]>l3[i]) and (l1[i]>l2[i] and l2[i]>=l3[i]))):\n",
    "            flag1=False\n",
    "        if(not((l1[i]>=l3[i] and l3[i]>l2[i]) and (l1[i]>l3[i] and l3[i]>=l2[i]))):\n",
    "            flag2=False\n",
    "        if(not((l2[i]>=l1[i] and l1[i]>l2[i]) and (l2[i]>l1[i] and l1[i]>=l2[i]))):\n",
    "            flag3=False\n",
    "        if(not((l2[i]>=l3[i] and l3[i]>l1[i]) and (l2[i]>l3[i] and l3[i]>=l1[i]))):\n",
    "            flag4=False\n",
    "        if(not((l3[i]>=l1[i] and l1[i]>l2[i]) and (l3[i]>l1[i] and l1[i]>=l2[i]))):\n",
    "            flag5=False\n",
    "        if(not((l3[i]>=l2[i] and l2[i]>l1[i]) and (l3[i]>l2[i] and l2[i]>=l1[i]))):\n",
    "            flag6=False\n",
    "    if(flag1 or flag2 or flag3 or flag4 or flag5 or flag6):\n",
    "        print(\"yes\")\n",
    "    else:\n",
    "        print(\"no\")"
   ]
  },
  {
   "cell_type": "code",
   "execution_count": null,
   "metadata": {},
   "outputs": [],
   "source": [
    "for _ in range(int(input())):\n",
    "    l1=list(map(int,input().split()))\n",
    "    l2=list(map(int,input().split()))\n",
    "    l3=list(map(int,input().split()))\n",
    "    l=[]\n",
    "    l.append(l1)\n",
    "    l.append(l2)\n",
    "    l.append(l3)\n",
    "    l.sort(reverse = True)\n",
    "    print(l)\n",
    "    flag=True\n",
    "    if((l[0] == l[1]) or (l[1] == l[2]) or (l[0] == l[2])):\n",
    "        print(\"no\")\n",
    "        # continue\n",
    "    for i in range(3):\n",
    "        if((l[0][i] < l[1][i]) or (l[1][i] < l[2][i]) or (l[0][i] < l[2][i])):\n",
    "            flag = False\n",
    "            break\n",
    "    if(flag):\n",
    "        print(\"yes\")\n",
    "    else:\n",
    "        print(\"no\")"
   ]
  },
  {
   "cell_type": "code",
   "execution_count": null,
   "metadata": {},
   "outputs": [],
   "source": [
    "l1 = [1,2,3]\n",
    "l2=[2,3,4]\n",
    "l3=[2,3,5]\n",
    "l=[]\n",
    "l.append(l1)\n",
    "l.append(l2)\n",
    "l.append(l3)\n",
    "l.sort(reverse = True)\n",
    "print(l)\n",
    "flag=True\n",
    "if((l[0] == l[1]) or (l[1] == l[2]) or (l[0] == l[2])):\n",
    "    print(\"no\")\n",
    "    # continue\n",
    "for i in range(3):\n",
    "    if((l[0][i] < l[1][i]) or (l[1][i] < l[2][i]) or (l[0][i] < l[2][i])):\n",
    "        flag = False\n",
    "        break\n",
    "if(flag):\n",
    "    print(\"yes\")\n",
    "else:\n",
    "    print(\"no\")"
   ]
  },
  {
   "cell_type": "code",
   "execution_count": 131,
   "metadata": {},
   "outputs": [
    {
     "name": "stdout",
     "output_type": "stream",
     "text": [
      "a\n",
      "ax\n",
      "abx\n",
      "b\n",
      "bx\n",
      "bcx\n",
      "bcdx\n",
      "d\n",
      "ad\n",
      "acd\n",
      "c\n",
      "3 3 4 4 4 2 2 1 \n"
     ]
    }
   ],
   "source": [
    "for _ in range(int(input())):\n",
    "    n,k=map(int,input().split())\n",
    "    s=input()\n",
    "    dic = {}\n",
    "    for i in range(k):\n",
    "        z=input()\n",
    "        z = ''.join(sorted(z))\n",
    "        dic[i+1] = z\n",
    "    ans =[]\n",
    "    prev=0\n",
    "    anslength = 0\n",
    "    while(anslength < n):\n",
    "        sub1=\"\"\n",
    "        key = 0\n",
    "        l=0\n",
    "        ff=0\n",
    "        for i in range(prev,n):\n",
    "            l+=1\n",
    "            if(s[i] in sub1):\n",
    "                continue\n",
    "            sub2 = sub1+s[i]\n",
    "            sub2 = ''.join(sorted(sub2))\n",
    "            print(sub2)\n",
    "            flag=True\n",
    "            for j in dic:\n",
    "                flagsubs = 1\n",
    "                for subs in sub2:\n",
    "                    if subs not in dic[j]:\n",
    "                        flagsubs = 0\n",
    "                        break\n",
    "                if(flagsubs):\n",
    "                    key = j\n",
    "                    flag = False\n",
    "                    break\n",
    "            if(flag == False):\n",
    "                sub1 = sub2\n",
    "                if(i == n-1):\n",
    "                    ff=1\n",
    "                    break\n",
    "                continue\n",
    "            else:\n",
    "                # print(s[i])\n",
    "                prev=i\n",
    "                break\n",
    "        if(ff==1):\n",
    "            ans.append([key,l])\n",
    "            anslength = anslength + (l)\n",
    "        elif(prev<n):\n",
    "            ans.append([key,l-1])\n",
    "            anslength = anslength +  (l-1)\n",
    "        else:\n",
    "            ans.append([key,l])\n",
    "            anslength = anslength + (l)\n",
    "        # print(ans,anslength)\n",
    "    i=0\n",
    "    # print(ans)\n",
    "    ansstr=\"\"\n",
    "    c=0\n",
    "    while(c<n):\n",
    "        for j in range(ans[i][1]):\n",
    "            ansstr += (str(ans[i][0])+' ')\n",
    "            c+=1\n",
    "            if(c==n):\n",
    "                break\n",
    "        i+=1\n",
    "    print(ansstr)"
   ]
  },
  {
   "cell_type": "code",
   "execution_count": null,
   "metadata": {},
   "outputs": [],
   "source": [
    "print(dic)"
   ]
  },
  {
   "cell_type": "code",
   "execution_count": null,
   "metadata": {},
   "outputs": [],
   "source": [
    "1\n",
    "6 3\n",
    "acabda\n",
    "acx\n",
    "acd\n",
    "acb"
   ]
  },
  {
   "cell_type": "code",
   "execution_count": null,
   "metadata": {},
   "outputs": [
    {
     "name": "stdout",
     "output_type": "stream",
     "text": [
      "['a', 'c', 'd']\n",
      "['a', 'c', 'd', 'f', 'r', 'e']\n",
      "False\n"
     ]
    }
   ],
   "source": [
    "s=list('acd')\n",
    "print(s)\n",
    "s1 = list('acdfre')\n",
    "print(s1)\n",
    "print()"
   ]
  },
  {
   "cell_type": "code",
   "execution_count": null,
   "metadata": {},
   "outputs": [
    {
     "ename": "SyntaxError",
     "evalue": "incomplete input (2508935873.py, line 10)",
     "output_type": "error",
     "traceback": [
      "\u001b[1;36m  Cell \u001b[1;32mIn[132], line 10\u001b[1;36m\u001b[0m\n\u001b[1;33m    else:\u001b[0m\n\u001b[1;37m         ^\u001b[0m\n\u001b[1;31mSyntaxError\u001b[0m\u001b[1;31m:\u001b[0m incomplete input\n"
     ]
    }
   ],
   "source": [
    "for _ in range(int(input())):\n",
    "    n,k=map(int,input())\n",
    "    l=list(map(int,input().split()))\n",
    "    l.sort()\n",
    "    s=0\n",
    "    for i in range(n):\n",
    "        if(l[i]<k):\n",
    "            s+=k\n",
    "        "
   ]
  },
  {
   "cell_type": "code",
   "execution_count": null,
   "metadata": {},
   "outputs": [],
   "source": [
    "s=input()\n",
    "ans=0\n",
    "s1=''.join(sorted(s))\n",
    "for i in range(len(s)):\n",
    "    "
   ]
  }
 ],
 "metadata": {
  "kernelspec": {
   "display_name": "Python 3",
   "language": "python",
   "name": "python3"
  },
  "language_info": {
   "codemirror_mode": {
    "name": "ipython",
    "version": 3
   },
   "file_extension": ".py",
   "mimetype": "text/x-python",
   "name": "python",
   "nbconvert_exporter": "python",
   "pygments_lexer": "ipython3",
   "version": "3.11.9"
  }
 },
 "nbformat": 4,
 "nbformat_minor": 2
}

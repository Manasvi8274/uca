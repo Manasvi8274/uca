{
 "cells": [
  {
   "cell_type": "code",
   "execution_count": null,
   "metadata": {},
   "outputs": [],
   "source": []
  },
  {
   "cell_type": "code",
   "execution_count": 1,
   "metadata": {},
   "outputs": [
    {
     "name": "stdout",
     "output_type": "stream",
     "text": [
      "ji\n"
     ]
    }
   ],
   "source": [
    "print(\"ji\")"
   ]
  },
  {
   "cell_type": "code",
   "execution_count": 2,
   "metadata": {},
   "outputs": [
    {
     "name": "stdout",
     "output_type": "stream",
     "text": [
      "{1: 4, 2: 4, 3: 2, 4: 4, 5: 1, 6: 1, 23: 1, 12: 1, 313: 1, 42: 1}\n"
     ]
    }
   ],
   "source": [
    "l=[1,2,3,4,5,6,1,23,3,1,2,4,4,1,2,12,313,4,42,2]\n",
    "d={}\n",
    "for i in l:\n",
    "    if i not in d:\n",
    "        d[i]=1\n",
    "    else:\n",
    "        d[i]+=1\n",
    "print(d)"
   ]
  },
  {
   "cell_type": "code",
   "execution_count": null,
   "metadata": {},
   "outputs": [],
   "source": []
  }
 ],
 "metadata": {
  "kernelspec": {
   "display_name": "Python 3",
   "language": "python",
   "name": "python3"
  },
  "language_info": {
   "codemirror_mode": {
    "name": "ipython",
    "version": 3
   },
   "file_extension": ".py",
   "mimetype": "text/x-python",
   "name": "python",
   "nbconvert_exporter": "python",
   "pygments_lexer": "ipython3",
   "version": "3.11.9"
  }
 },
 "nbformat": 4,
 "nbformat_minor": 2
}

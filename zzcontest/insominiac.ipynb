{
 "cells": [
  {
   "cell_type": "code",
   "execution_count": null,
   "metadata": {},
   "outputs": [
    {
     "name": "stdout",
     "output_type": "stream",
     "text": [
      "jo\n"
     ]
    }
   ],
   "source": []
  },
  {
   "cell_type": "code",
   "execution_count": 39,
   "metadata": {},
   "outputs": [
    {
     "name": "stdout",
     "output_type": "stream",
     "text": [
      "1 2 3 7 4 5 6\n"
     ]
    }
   ],
   "source": [
    "num=(10)+1\n",
    "def sieve(num):\n",
    "    prime = [True for i in range(num+1)]\n",
    "    prime[0] = prime[1]= False\n",
    "# boolean array\n",
    "    p = 2\n",
    "    while (p * p <= num):\n",
    " \n",
    "        # If prime[p] is not\n",
    "        # changed, then it is a prime\n",
    "        if (prime[p] == True):\n",
    " \n",
    "            # Updating all multiples of p\n",
    "            for i in range(p * p, num+1, p):\n",
    "                prime[i] = False\n",
    "        p += 1\n",
    "    return [i for i in range(len(prime)) if prime[i]]\n",
    "\n",
    "primes = sieve(10)\n",
    "# print(primes)\n",
    "\n",
    "def srch(n):\n",
    "    last=primes[0]\n",
    "    for i in primes:\n",
    "        if(i >= n):\n",
    "            return i\n",
    "     \n",
    "def fun(n):\n",
    "    if(n == 1):\n",
    "        return [1]\n",
    "    elif(n == 2):\n",
    "        return [1,2]\n",
    "    elif(n == 3):\n",
    "        return [3,1,2]\n",
    "    \n",
    "    nearestprime = srch(n)\n",
    "    # print(nearestprime)\n",
    "    if(nearestprime == n):\n",
    "        l=[i for i in range(1,n)]\n",
    "        # print(l)\n",
    "        l.insert(n//2 , n)\n",
    "        # print(l)\n",
    "        return l\n",
    "    else:\n",
    "        start = nearestprime - n\n",
    "        l=[i for i in range(start , n+1)]\n",
    "        n=start-1\n",
    "        # print(\"n =\" ,n)\n",
    "        if(n == 0):\n",
    "            return l\n",
    "        elif(n == 1):\n",
    "            l1=[1]\n",
    "        elif(n == 2):\n",
    "            l1=[1,2]\n",
    "        elif(n == 3):\n",
    "            l1=[3,1,2]\n",
    "        else:\n",
    "            l1=fun(n)\n",
    "        l2=l[:len(l)//2] + l1 + l[len(l)//2:]\n",
    "        # print(l2)\n",
    "        return l2\n",
    "\n",
    "for _ in range(int(input())):\n",
    "    n=int(input())\n",
    "    ans=[]\n",
    "    print(*(fun(n)))"
   ]
  },
  {
   "cell_type": "code",
   "execution_count": null,
   "metadata": {},
   "outputs": [],
   "source": [
    "for _ in range(int(input().split())):\n",
    "    n=int(input())\n",
    "    l=list(map(int,input().split()))\n",
    "    l.sort()\n",
    "    ans=2\n",
    "    for i in range(2,l[0]+1 + l[1]):\n",
    "        flag=True\n",
    "        for j in l:\n",
    "            if(j%i != 0):\n",
    "                flag=False\n",
    "                break\n",
    "        if(flag):\n",
    "            ans = max(ans,i)\n",
    "    print(ans)"
   ]
  },
  {
   "cell_type": "code",
   "execution_count": 43,
   "metadata": {},
   "outputs": [
    {
     "name": "stdout",
     "output_type": "stream",
     "text": [
      "[1, 2]\n",
      "[1, 2]\n"
     ]
    }
   ],
   "source": [
    "l=[1,2,3]\n",
    "l1=l\n",
    "l1.pop()\n",
    "print(l)\n",
    "print(l1)"
   ]
  },
  {
   "cell_type": "code",
   "execution_count": 41,
   "metadata": {},
   "outputs": [
    {
     "name": "stdout",
     "output_type": "stream",
     "text": [
      "[1, 2, 3] [1, 2]\n"
     ]
    }
   ],
   "source": [
    "print(l,l1)"
   ]
  },
  {
   "cell_type": "code",
   "execution_count": null,
   "metadata": {},
   "outputs": [],
   "source": [
    "for _ in range(int(input())):\n",
    "    n=int(input())\n",
    "    l=input()\n",
    "    pair=0\n",
    "    one=-1\n",
    "    zero=-1\n",
    "    start=-1\n",
    "    for i in range(1,n):\n",
    "        if(l[i-1] == l[i]):\n",
    "            pair+=1\n",
    "            if(start == -1):\n",
    "                start=i-1\n",
    "        else:\n",
    "            if(l[i-1] == '1'):\n",
    "                if(one == -1):\n",
    "                    one=i-1\n",
    "            else:\n",
    "                if(zero == -1):\n",
    "                    zero=i-1\n",
    "    if(pair == 0):\n",
    "        a=l.count(\"1\")\n",
    "        b=n-a\n",
    "        print(max(a-1,b-1))\n",
    "    else:\n",
    "        ans=0\n",
    "        for i in range(1,n):\n",
    "            if(l[i-1]!=l[i]):\n",
    "                ans+=1\n",
    "        print(n-ans)"
   ]
  },
  {
   "cell_type": "code",
   "execution_count": null,
   "metadata": {},
   "outputs": [],
   "source": [
    "def gcd(a,b):\n",
    "    if(b == 0):\n",
    "        return a\n",
    "    else:\n",
    "        return gcd(b,a%b)\n",
    "\n",
    "for _ in range(int(input())):\n",
    "    n=int(input())\n",
    "    l=list(map(int,input().split()))\n",
    "    g=0\n",
    "    for i in range(1,n):\n",
    "        g=gcd(l[i-1] , l[i])\n",
    "    ans=g\n",
    "    i=2\n",
    "    while(True):\n",
    "        t=g*2\n",
    "        flag=True\n",
    "        for i in l:\n",
    "            if(i%t != 0):\n",
    "                flag=False\n",
    "                break\n",
    "        if(not flag):\n",
    "            break\n",
    "        ans=t\n",
    "    print(ans)"
   ]
  },
  {
   "cell_type": "code",
   "execution_count": null,
   "metadata": {},
   "outputs": [],
   "source": [
    "for _ in range(int(input())):\n",
    "    n=int(input())\n",
    "    s=input()\n",
    "    flag=True\n",
    "    for i in range(1,n):\n",
    "        if(s[i-1] == s[i]):\n",
    "            flag=False\n",
    "            break\n",
    "    if(flag):\n",
    "        a=l.count(\"1\")\n",
    "        b=n-a\n",
    "        print(max(a-1,b-1))\n",
    "    else:\n",
    "        cut=0\n",
    "        for i in range(2,n):\n",
    "            s1=s[i-2]+s[i-1]+s[1]\n",
    "            if(s == \"101\" or s == \"010\"):\n",
    "                cut+=1\n",
    "        print(n-cut-1)"
   ]
  }
 ],
 "metadata": {
  "kernelspec": {
   "display_name": "Python 3",
   "language": "python",
   "name": "python3"
  },
  "language_info": {
   "codemirror_mode": {
    "name": "ipython",
    "version": 3
   },
   "file_extension": ".py",
   "mimetype": "text/x-python",
   "name": "python",
   "nbconvert_exporter": "python",
   "pygments_lexer": "ipython3",
   "version": "3.11.9"
  }
 },
 "nbformat": 4,
 "nbformat_minor": 2
}

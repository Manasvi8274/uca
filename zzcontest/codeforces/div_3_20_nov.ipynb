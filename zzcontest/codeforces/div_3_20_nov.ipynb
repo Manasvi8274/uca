{
 "cells": [
  {
   "cell_type": "code",
   "execution_count": null,
   "metadata": {},
   "outputs": [],
   "source": [
    "for _ in range(int(input())):\n",
    "    n=int(input())\n",
    "    l=list(map(int,input().split()))\n",
    "    d={}\n",
    "    for i in l:\n",
    "        if i not in d:\n",
    "            d[i]=1\n",
    "        else:\n",
    "            d[i]+=1\n",
    "    ans=0\n",
    "    for i in d:\n",
    "        ans+=d[i]//2\n",
    "    print(ans)"
   ]
  },
  {
   "cell_type": "code",
   "execution_count": null,
   "metadata": {},
   "outputs": [
    {
     "name": "stdout",
     "output_type": "stream",
     "text": [
      "1 1\n"
     ]
    }
   ],
   "source": [
    "for _ in range(int(input())):\n",
    "    n=int(input())\n",
    "    l=list(map(int,input().split()))\n",
    "    a,b = 0,0\n",
    "    for i in l:\n",
    "        t=(n-2)//i\n",
    "        if((t == i and l.count(t)>2) or (t!=i and l.count(t)>=1)):\n",
    "            a=i\n",
    "            b=(n-2)//i\n",
    "            break\n",
    "    print(a,b)"
   ]
  },
  {
   "cell_type": "code",
   "execution_count": null,
   "metadata": {},
   "outputs": [],
   "source": [
    "for _ in range(int(input())):\n",
    "    n=int(input())\n",
    "    l=[]\n",
    "    for i in range(2,n+1,2):\n",
    "        if (i != 4):\n",
    "            l.append(i)\n",
    "    l.append(4)\n",
    "    l.append(5)\n",
    "    for i in range(1,n+1,2):\n",
    "        if(i!=5):\n",
    "            l.append(i)\n",
    "    print(*(l))"
   ]
  },
  {
   "cell_type": "code",
   "execution_count": 9,
   "metadata": {},
   "outputs": [
    {
     "ename": "ValueError",
     "evalue": "invalid literal for int() with base 10: ''",
     "output_type": "error",
     "traceback": [
      "\u001b[1;31m---------------------------------------------------------------------------\u001b[0m",
      "\u001b[1;31mValueError\u001b[0m                                Traceback (most recent call last)",
      "Cell \u001b[1;32mIn[9], line 1\u001b[0m\n\u001b[1;32m----> 1\u001b[0m \u001b[38;5;28;01mfor\u001b[39;00m _ \u001b[38;5;129;01min\u001b[39;00m \u001b[38;5;28mrange\u001b[39m(\u001b[38;5;28;43mint\u001b[39;49m\u001b[43m(\u001b[49m\u001b[38;5;28;43minput\u001b[39;49m\u001b[43m(\u001b[49m\u001b[43m)\u001b[49m\u001b[43m)\u001b[49m):\n\u001b[0;32m      2\u001b[0m     n,m,l \u001b[38;5;241m=\u001b[39m \u001b[38;5;28mmap\u001b[39m(\u001b[38;5;28mint\u001b[39m,\u001b[38;5;28minput\u001b[39m()\u001b[38;5;241m.\u001b[39msplit())\n\u001b[0;32m      3\u001b[0m     hurdles \u001b[38;5;241m=\u001b[39m []\n",
      "\u001b[1;31mValueError\u001b[0m: invalid literal for int() with base 10: ''"
     ]
    }
   ],
   "source": [
    "for _ in range(int(input())):\n",
    "    n,m,l = map(int,input().split())\n",
    "    hurdles = []\n",
    "    for i in range(n):\n",
    "        a,b = map(int,input().split())\n",
    "        hurdles.append([a,b])\n",
    "    power = []\n",
    "    for i in range(m):\n",
    "        a,b = map(int,input().split())\n",
    "        power.append([a,b])\n",
    "    finalans = 0\n",
    "    power_hold = 0\n",
    "    currenthurdle = n-1\n",
    "    currentpower = m-1\n",
    "    while(currenthurdle >=0):\n",
    "        power_need = hurdles[currenthurdle][1] - hurdles[currenthurdle][0] + power_hold\n",
    "        power_add = []\n",
    "        stop = 0\n",
    "        if(currenthurdle >0):\n",
    "            stop = hurdles[currenthurdle -1][1]\n",
    "        i=currentpower\n",
    "        while(i >= 0 ):\n",
    "            if(power[i][0] > stop and power[i][0] < hurdles[currenthurdle][0]):\n",
    "                power_add.append(power[i][1])\n",
    "            elif(power[i][0] > hurdles[currenthurdle][0]):\n",
    "                continue\n",
    "            else:\n",
    "                currentpower = i\n",
    "                break\n",
    "            i-=1\n",
    "        power_add.sort(reverse=True)\n",
    "        ans=0\n",
    "        for i in power_add:\n",
    "            power_need -= i\n",
    "            ans+=1\n",
    "            if(power_need <= 0):\n",
    "                break\n",
    "        if(power_need <= 0):\n",
    "            finalans+=ans\n",
    "            power_need = 0\n",
    "        else:\n",
    "            power_hold +=power_need\n",
    "            finalans += ans\n",
    "        currenthurdle-=1\n",
    "    if(power_hold >0):\n",
    "        print(-1)\n",
    "    else:\n",
    "        print(ans)"
   ]
  },
  {
   "cell_type": "code",
   "execution_count": null,
   "metadata": {},
   "outputs": [],
   "source": [
    "2 5 8\n",
    "3 3\n",
    "7 7\n",
    "2 3\n",
    "4 1\n",
    "4 5\n",
    "5 1\n",
    "6 5"
   ]
  }
 ],
 "metadata": {
  "kernelspec": {
   "display_name": "Python 3",
   "language": "python",
   "name": "python3"
  },
  "language_info": {
   "codemirror_mode": {
    "name": "ipython",
    "version": 3
   },
   "file_extension": ".py",
   "mimetype": "text/x-python",
   "name": "python",
   "nbconvert_exporter": "python",
   "pygments_lexer": "ipython3",
   "version": "3.11.9"
  }
 },
 "nbformat": 4,
 "nbformat_minor": 2
}

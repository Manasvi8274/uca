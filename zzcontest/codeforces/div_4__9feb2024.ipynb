{
 "cells": [
  {
   "cell_type": "code",
   "execution_count": 3,
   "metadata": {},
   "outputs": [
    {
     "name": "stdout",
     "output_type": "stream",
     "text": [
      "jo\n"
     ]
    }
   ],
   "source": [
    "print(\"jo\")"
   ]
  },
  {
   "cell_type": "code",
   "execution_count": null,
   "metadata": {},
   "outputs": [
    {
     "ename": "ValueError",
     "evalue": "invalid literal for int() with base 10: ''",
     "output_type": "error",
     "traceback": [
      "\u001b[1;31m---------------------------------------------------------------------------\u001b[0m",
      "\u001b[1;31mValueError\u001b[0m                                Traceback (most recent call last)",
      "Cell \u001b[1;32mIn[4], line 1\u001b[0m\n\u001b[1;32m----> 1\u001b[0m \u001b[38;5;28;01mfor\u001b[39;00m _ \u001b[38;5;129;01min\u001b[39;00m \u001b[38;5;28mrange\u001b[39m(\u001b[38;5;28;43mint\u001b[39;49m\u001b[43m(\u001b[49m\u001b[38;5;28;43minput\u001b[39;49m\u001b[43m(\u001b[49m\u001b[43m)\u001b[49m\u001b[43m)\u001b[49m):\n\u001b[0;32m      2\u001b[0m     s\u001b[38;5;241m=\u001b[39m\u001b[38;5;28minput\u001b[39m()\n\u001b[0;32m      3\u001b[0m     s1\u001b[38;5;241m=\u001b[39m\u001b[38;5;124m\"\u001b[39m\u001b[38;5;124m\"\u001b[39m\n",
      "\u001b[1;31mValueError\u001b[0m: invalid literal for int() with base 10: ''"
     ]
    }
   ],
   "source": [
    "for _ in range(int(input())):\n",
    "    s=input()\n",
    "    s1=\"\"\n",
    "    for i in range(1,len(s)):\n",
    "        if(s[-i]+s[-i-1] == \"su\"):\n",
    "            s1+=s[:-i] + \"i\"\n",
    "            break\n",
    "    print(s1)"
   ]
  },
  {
   "cell_type": "code",
   "execution_count": null,
   "metadata": {},
   "outputs": [],
   "source": [
    "for _ in range(int(input())):\n",
    "    s=input()\n",
    "    flag=True\n",
    "    for i in range(1,len(s)):\n",
    "        if(s[i] == s[i-1]):\n",
    "            flag=False\n",
    "    if(flag == True):\n",
    "        print(len(s))\n",
    "    else:\n",
    "        print(1)"
   ]
  },
  {
   "cell_type": "code",
   "execution_count": 11,
   "metadata": {},
   "outputs": [
    {
     "name": "stdout",
     "output_type": "stream",
     "text": [
      "YES\n"
     ]
    }
   ],
   "source": [
    "for _ in range(int(input())):\n",
    "    n,m=map(int,input().split())\n",
    "    ln=list(map(int,input().split()))\n",
    "    lm=int(input())\n",
    "    ln1=ln.copy()\n",
    "    ln1.sort(reverse=True)\n",
    "    if(ln1 == ln):\n",
    "        print(\"YES\")\n",
    "        continue\n",
    "    i=1\n",
    "    flag=True\n",
    "    vis=[0]*n\n",
    "    while(i<n):\n",
    "        if(ln[i-1] > ln[i]):\n",
    "            if(vis[i-1] == 0):\n",
    "                print(\"i-1 = \",i-1)\n",
    "                ln[i-1] = lm - ln[i-1]\n",
    "                vis[i-1]=1\n",
    "            else:\n",
    "                print(\"i-1 = \",i-1)\n",
    "                flag=False\n",
    "                break\n",
    "            i-=2\n",
    "        i+=1\n",
    "        if(i <= 0):\n",
    "            i=1\n",
    "    if(flag):\n",
    "        print(\"YES\")\n",
    "    else:\n",
    "        print(\"NO\")        "
   ]
  },
  {
   "cell_type": "code",
   "execution_count": 15,
   "metadata": {},
   "outputs": [
    {
     "ename": "ValueError",
     "evalue": "not enough values to unpack (expected 2, got 0)",
     "output_type": "error",
     "traceback": [
      "\u001b[1;31m---------------------------------------------------------------------------\u001b[0m",
      "\u001b[1;31mValueError\u001b[0m                                Traceback (most recent call last)",
      "Cell \u001b[1;32mIn[15], line 2\u001b[0m\n\u001b[0;32m      1\u001b[0m \u001b[38;5;28;01mfor\u001b[39;00m _ \u001b[38;5;129;01min\u001b[39;00m \u001b[38;5;28mrange\u001b[39m(\u001b[38;5;28mint\u001b[39m(\u001b[38;5;28minput\u001b[39m())):\n\u001b[1;32m----> 2\u001b[0m     n,m\u001b[38;5;241m=\u001b[39m\u001b[38;5;28mmap\u001b[39m(\u001b[38;5;28mint\u001b[39m,\u001b[38;5;28minput\u001b[39m()\u001b[38;5;241m.\u001b[39msplit())\n\u001b[0;32m      3\u001b[0m     l\u001b[38;5;241m=\u001b[39m[]\n\u001b[0;32m      4\u001b[0m     \u001b[38;5;28;01mif\u001b[39;00m(m \u001b[38;5;241m==\u001b[39m \u001b[38;5;241m1\u001b[39m):\n",
      "\u001b[1;31mValueError\u001b[0m: not enough values to unpack (expected 2, got 0)"
     ]
    }
   ],
   "source": [
    "for _ in range(int(input())):\n",
    "    n,m=map(int,input().split())\n",
    "    l=[]\n",
    "    if(m == 1):\n",
    "        for i in range(n):\n",
    "            l.append(int(input()))\n",
    "        l.sort(reverse = True)\n",
    "        ans=0\n",
    "        s=0\n",
    "        for i in l:\n",
    "            s+=i\n",
    "            ans+=s\n",
    "        print(ans)\n",
    "        continue\n",
    "    for i in range(n):\n",
    "        l.append(list(map(int,input().split())))\n",
    "    for i in range(n):\n",
    "        s=0\n",
    "        for j in range(m):\n",
    "            s+=l[i][j]\n",
    "            l[i][j]=s\n",
    "        l[i]=l[i][::-1]\n",
    "    l.sort(reverse=True)\n",
    "    for i in range(n):\n",
    "        l[i] = l[i][::-1]\n",
    "    \n",
    "    ans=sum(l[0])\n",
    "    prev=l[0][-1]\n",
    "    for i in range(1,n):\n",
    "        for j in range(m):\n",
    "            if(j == 1):\n",
    "                prev = prev+l[i][j]\n",
    "            else:\n",
    "                prev = prev + l[i][j] - l[i][j-1]\n",
    "            ans+=prev"
   ]
  },
  {
   "cell_type": "code",
   "execution_count": 14,
   "metadata": {},
   "outputs": [
    {
     "name": "stdout",
     "output_type": "stream",
     "text": [
      "[3, 2, 1]\n"
     ]
    }
   ],
   "source": [
    "l=[1,2,3]\n",
    "l=l[::-1]\n",
    "print(l)"
   ]
  },
  {
   "cell_type": "code",
   "execution_count": 13,
   "metadata": {},
   "outputs": [
    {
     "name": "stdout",
     "output_type": "stream",
     "text": [
      "162\n"
     ]
    }
   ],
   "source": [
    "print(sum([4,5,7,8,11,13,14,16,18,20,22,24]))"
   ]
  },
  {
   "cell_type": "code",
   "execution_count": null,
   "metadata": {},
   "outputs": [],
   "source": [
    "for _ in range(int(input())):\n",
    "    n,m,k=map(int,input().split())\n",
    "    if(abs(n-m) > k):\n",
    "        print(-1)\n",
    "        continue\n",
    "    if(m == 0):\n",
    "        print(\"0\"*n)\n",
    "        continue\n",
    "    if(n == 0):\n",
    "        print(\"1\"*m)\n",
    "        continue\n",
    "    if(k == 1):\n",
    "        s=\"\"\n",
    "        for i in range(n+m):\n",
    "            if(i%2==0):\n",
    "                if(m>0):\n",
    "                    s+=\"1\"\n",
    "                    m-=1\n",
    "                else:\n",
    "                    s+=\"0\"\n",
    "                    n-=1\n",
    "            else:\n",
    "                if(n>0):\n",
    "                    s+=\"0\"\n",
    "                    n-=1\n",
    "                else:\n",
    "                    s+=\"1\"\n",
    "                    m-=1\n",
    "        print(s)\n",
    "        continue\n",
    "    s1=\"\"\n",
    "    s=\"\"\n",
    "    if(n>m):\n",
    "        s1+=\"0\"*k\n",
    "        n=n-k\n",
    "    else:\n",
    "        s1+=\"1\"*k\n",
    "        m=m-k\n",
    "    if(m>n):\n",
    "        for i in range(n+m):\n",
    "            if(i%2 == 0):\n",
    "                if(m>0):\n",
    "                    s+=\"1\"\n",
    "                    m-=1\n",
    "                else:\n",
    "                    s+=\"0\"\n",
    "                    n-=1\n",
    "            else:\n",
    "                if(n>0):\n",
    "                    s+=\"0\"\n",
    "                    n-=1\n",
    "                else:\n",
    "                    s+=\"1\"\n",
    "                    m-=1\n",
    "    else:\n",
    "        for i in range(n+m):\n",
    "            if(i%2 == 0):\n",
    "                if(n>0):\n",
    "                    s+=\"0\"\n",
    "                    n-=1\n",
    "                else:\n",
    "                    s+=\"1\"\n",
    "                    m-=1\n",
    "            else:\n",
    "                if(m>0):\n",
    "                    s+=\"1\"\n",
    "                    m-=1\n",
    "                else:\n",
    "                    s+=\"0\"\n",
    "                    n-=1\n",
    "    print(s+s1)"
   ]
  },
  {
   "cell_type": "code",
   "execution_count": 16,
   "metadata": {},
   "outputs": [
    {
     "name": "stdout",
     "output_type": "stream",
     "text": [
      "5555\n"
     ]
    }
   ],
   "source": [
    "print(\"5\"*4)"
   ]
  },
  {
   "cell_type": "code",
   "execution_count": null,
   "metadata": {},
   "outputs": [],
   "source": []
  }
 ],
 "metadata": {
  "kernelspec": {
   "display_name": "Python 3",
   "language": "python",
   "name": "python3"
  },
  "language_info": {
   "codemirror_mode": {
    "name": "ipython",
    "version": 3
   },
   "file_extension": ".py",
   "mimetype": "text/x-python",
   "name": "python",
   "nbconvert_exporter": "python",
   "pygments_lexer": "ipython3",
   "version": "3.11.9"
  }
 },
 "nbformat": 4,
 "nbformat_minor": 2
}

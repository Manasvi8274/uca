{
 "cells": [
  {
   "cell_type": "code",
   "execution_count": null,
   "metadata": {},
   "outputs": [],
   "source": []
  },
  {
   "cell_type": "code",
   "execution_count": 3,
   "metadata": {},
   "outputs": [
    {
     "ename": "ValueError",
     "evalue": "invalid literal for int() with base 10: ''",
     "output_type": "error",
     "traceback": [
      "\u001b[1;31m---------------------------------------------------------------------------\u001b[0m",
      "\u001b[1;31mValueError\u001b[0m                                Traceback (most recent call last)",
      "Cell \u001b[1;32mIn[3], line 1\u001b[0m\n\u001b[1;32m----> 1\u001b[0m \u001b[38;5;28;01mfor\u001b[39;00m _ \u001b[38;5;129;01min\u001b[39;00m \u001b[38;5;28mrange\u001b[39m(\u001b[38;5;28;43mint\u001b[39;49m\u001b[43m(\u001b[49m\u001b[38;5;28;43minput\u001b[39;49m\u001b[43m(\u001b[49m\u001b[43m)\u001b[49m\u001b[43m)\u001b[49m):\n\u001b[0;32m      2\u001b[0m     n\u001b[38;5;241m=\u001b[39m\u001b[38;5;28mint\u001b[39m(\u001b[38;5;28minput\u001b[39m())\n\u001b[0;32m      3\u001b[0m     l\u001b[38;5;241m=\u001b[39m\u001b[38;5;28mlist\u001b[39m(\u001b[38;5;28mmap\u001b[39m(\u001b[38;5;28mint\u001b[39m,\u001b[38;5;28minput\u001b[39m()\u001b[38;5;241m.\u001b[39msplit()))\n",
      "\u001b[1;31mValueError\u001b[0m: invalid literal for int() with base 10: ''"
     ]
    }
   ],
   "source": [
    "for _ in range(int(input())):\n",
    "    n=int(input())\n",
    "    l=list(map(int,input().split()))\n",
    "    l.sort()\n",
    "    ans=0\n",
    "    i,e=0,len(l)-1\n",
    "    while(i<e):\n",
    "        ans+=l[e]-l[i]\n",
    "        i+=1\n",
    "        e-=1\n",
    "    print(ans)"
   ]
  },
  {
   "cell_type": "code",
   "execution_count": 8,
   "metadata": {},
   "outputs": [
    {
     "name": "stdout",
     "output_type": "stream",
     "text": [
      "27\n"
     ]
    }
   ],
   "source": [
    "for _ in range(int(input())):\n",
    "    n,k = map(int,input().split())\n",
    "    l=list(map(int,input().split()))\n",
    "    d={}\n",
    "    for i in l:\n",
    "        if(i in d):\n",
    "            d[i]+=1\n",
    "        else:\n",
    "            d[i]=1\n",
    "    if(len(d) == n or n-len(d) <= k):\n",
    "        print(int(n*(n-1)/2))\n",
    "        continue\n",
    "    ans = 0\n",
    "    for i in range(n-1):\n",
    "        d[l[i]]-=1\n",
    "        ans += n-i-d[l[i]]-1\n",
    "    print(ans + k)"
   ]
  },
  {
   "cell_type": "code",
   "execution_count": 11,
   "metadata": {},
   "outputs": [
    {
     "ename": "ValueError",
     "evalue": "invalid literal for int() with base 10: ''",
     "output_type": "error",
     "traceback": [
      "\u001b[1;31m---------------------------------------------------------------------------\u001b[0m",
      "\u001b[1;31mValueError\u001b[0m                                Traceback (most recent call last)",
      "Cell \u001b[1;32mIn[11], line 1\u001b[0m\n\u001b[1;32m----> 1\u001b[0m \u001b[38;5;28;01mfor\u001b[39;00m _ \u001b[38;5;129;01min\u001b[39;00m \u001b[38;5;28mrange\u001b[39m(\u001b[38;5;28;43mint\u001b[39;49m\u001b[43m(\u001b[49m\u001b[38;5;28;43minput\u001b[39;49m\u001b[43m(\u001b[49m\u001b[43m)\u001b[49m\u001b[43m)\u001b[49m):\n\u001b[0;32m      2\u001b[0m     l,r\u001b[38;5;241m=\u001b[39m\u001b[38;5;28mmap\u001b[39m(\u001b[38;5;28mint\u001b[39m,\u001b[38;5;28minput\u001b[39m()\u001b[38;5;241m.\u001b[39msplit())\n\u001b[0;32m      3\u001b[0m     \u001b[38;5;28;01mfor\u001b[39;00m i \u001b[38;5;129;01min\u001b[39;00m \u001b[38;5;28mrange\u001b[39m(l,r\u001b[38;5;241m+\u001b[39m\u001b[38;5;241m1\u001b[39m):\n",
      "\u001b[1;31mValueError\u001b[0m: invalid literal for int() with base 10: ''"
     ]
    }
   ],
   "source": [
    "for _ in range(int(input())):\n",
    "    l,r=map(int,input().split())\n",
    "    for i in range(l,r+1):\n",
    "        ans=0\n",
    "        flag=1\n",
    "        n=i\n",
    "        c=-1\n",
    "        c1=0\n",
    "        one=0\n",
    "        zero=0\n",
    "        while(n>0):\n",
    "            if(n%2 == 1):\n",
    "                if(zero == 0 and one == 0):\n",
    "                    c1+=1\n",
    "                elif(one == 1):\n",
    "                    c1+=1\n",
    "                else:\n",
    "                    if(c == -1):\n",
    "                        c = c1\n",
    "                    else:\n",
    "                        if(c == c1):\n",
    "                            continue\n",
    "                        else:\n",
    "                            flag=0\n",
    "                            break\n",
    "            else:\n",
    "                if(zero == 0 and one == 0):\n",
    "                    c1+=1\n",
    "                elif(zero == 1):\n",
    "                    c1+=1\n",
    "                else:\n",
    "                    if(c == -1):\n",
    "                        c=c1\n",
    "                    else:\n",
    "                        if(c == c1):\n",
    "                            continue\n",
    "                        else:\n",
    "                            flag=0\n",
    "                            break\n",
    "        if(flag):\n",
    "            ans+=1\n",
    "    print(ans)\n",
    "                    "
   ]
  },
  {
   "cell_type": "code",
   "execution_count": 42,
   "metadata": {},
   "outputs": [
    {
     "name": "stdout",
     "output_type": "stream",
     "text": [
      "1\n",
      "2\n",
      "3\n",
      "5\n",
      "7\n",
      "10\n",
      "12\n",
      "15\n",
      "8\n"
     ]
    }
   ],
   "source": [
    "for _ in range(int(input())):\n",
    "    l,r=map(int,input().split())\n",
    "    ans=0\n",
    "    for j in range(l,r+1):\n",
    "        s = bin(j)[2:]\n",
    "        c=-1\n",
    "        c1=0\n",
    "        flag=1\n",
    "        prev =-1\n",
    "        for i in s:\n",
    "            if(i == '1'):\n",
    "                if(prev == -1 or prev == 1):\n",
    "                    c1+=1\n",
    "                    prev=1\n",
    "                if(prev == 0):\n",
    "                    if(c == -1):\n",
    "                        c=c1\n",
    "                    else:\n",
    "                        if(c != c1):\n",
    "                            flag=0\n",
    "                            break\n",
    "                    c1=1\n",
    "                    prev=1\n",
    "            else:\n",
    "                if(prev == -1 or prev == 0):\n",
    "                    c1+=1\n",
    "                    prev=0\n",
    "                if(prev == 1):\n",
    "                    if(c == -1):\n",
    "                        c=c1\n",
    "                    else:\n",
    "                        if(c != c1):\n",
    "                            flag=0\n",
    "                            break\n",
    "                    c1=1\n",
    "                    prev=0\n",
    "        if((flag == 1 and c==c1) or c == -1):\n",
    "            ans+=1\n",
    "            print(j)\n",
    "    print(ans)"
   ]
  },
  {
   "cell_type": "code",
   "execution_count": null,
   "metadata": {},
   "outputs": [
    {
     "name": "stdout",
     "output_type": "stream",
     "text": [
      "<class 'str'>\n"
     ]
    }
   ],
   "source": [
    "for _ in range(int(input())):\n",
    "    l,r=map(int,input().split())\n",
    "    ans=0\n",
    "    for j in range(l,r+1):\n",
    "        s = j\n",
    "        c=-1\n",
    "        c1=0\n",
    "        flag=1\n",
    "        while(s>2):\n",
    "            \n",
    "        \n",
    "    print(ans)"
   ]
  },
  {
   "cell_type": "code",
   "execution_count": 41,
   "metadata": {},
   "outputs": [
    {
     "name": "stdout",
     "output_type": "stream",
     "text": [
      "{1: 1, 2: 2, 3: 3}\n"
     ]
    }
   ],
   "source": [
    "d={1:1,2:2,3:3}\n",
    "print(d)"
   ]
  },
  {
   "cell_type": "code",
   "execution_count": null,
   "metadata": {},
   "outputs": [],
   "source": []
  }
 ],
 "metadata": {
  "kernelspec": {
   "display_name": "Python 3",
   "language": "python",
   "name": "python3"
  },
  "language_info": {
   "codemirror_mode": {
    "name": "ipython",
    "version": 3
   },
   "file_extension": ".py",
   "mimetype": "text/x-python",
   "name": "python",
   "nbconvert_exporter": "python",
   "pygments_lexer": "ipython3",
   "version": "3.11.9"
  }
 },
 "nbformat": 4,
 "nbformat_minor": 2
}

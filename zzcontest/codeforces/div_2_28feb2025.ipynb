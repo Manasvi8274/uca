{
 "cells": [
  {
   "cell_type": "code",
   "execution_count": null,
   "metadata": {},
   "outputs": [],
   "source": []
  },
  {
   "cell_type": "code",
   "execution_count": null,
   "metadata": {},
   "outputs": [],
   "source": []
  },
  {
   "cell_type": "code",
   "execution_count": 1,
   "metadata": {},
   "outputs": [
    {
     "name": "stdout",
     "output_type": "stream",
     "text": [
      "jo\n"
     ]
    }
   ],
   "source": [
    "print(\"jo\")"
   ]
  },
  {
   "cell_type": "code",
   "execution_count": null,
   "metadata": {},
   "outputs": [],
   "source": [
    "#q1\n",
    "for _ in range(int(input())):\n",
    "    n=int(input())\n",
    "    print(\"YES\" if n%3==1 else \"NO\")"
   ]
  },
  {
   "cell_type": "code",
   "execution_count": null,
   "metadata": {},
   "outputs": [],
   "source": [
    "#q2\n",
    "arr={i*i:1 for i in range(5*(10**5))}\n",
    "for _ in range(int(input())):\n",
    "    n=int(input())\n",
    "    if(n*(n+1)//2 in arr):\n",
    "        print(-1)\n",
    "        continue\n",
    "    if(n == 1):\n",
    "        print(-1)\n",
    "    elif(n == 2):\n",
    "        print(2,1)\n",
    "    else:\n",
    "        l=[2,1]\n",
    "        i=3\n",
    "        while(i <= n):\n",
    "            if(i*(i+1)//2 in arr):\n",
    "                l.append(i+1)\n",
    "                l.append(i)\n",
    "                i+=1\n",
    "            else:\n",
    "                l.append(i)\n",
    "            i+=1\n",
    "        print(*l)"
   ]
  },
  {
   "cell_type": "code",
   "execution_count": null,
   "metadata": {},
   "outputs": [],
   "source": [
    "for _ in range(int(input())):\n",
    "    n,start,end=map(int,input().split())\n",
    "    l=[]\n",
    "    if(n == 1):\n",
    "        print(start)\n",
    "        continue\n",
    "    for i in range(n-1):\n",
    "        l1=list(map(int,input().split()))\n",
    "        l.append(l1)\n",
    "        \n",
    "    if(start == end):\n",
    "        if(start == n):\n",
    "            l1=[start-1]\n",
    "            for i in range(n,0,-1):\n",
    "                if(i!=end and i!=start-1):\n",
    "                    l1.append(i)\n",
    "            l1.append(end)\n",
    "            print(*l1)\n",
    "            continue\n",
    "        else:\n",
    "            l1=[start+1]\n",
    "            for i in range(n,0,-1):\n",
    "                if(i!=start+1 and i!=end):\n",
    "                    l1.append(i)\n",
    "            l1.append(end)\n",
    "            print(*l1)\n",
    "            continue\n",
    "    else:\n",
    "        l1=[start]\n",
    "        for i in range(n,0,-1):\n",
    "            if(i!=start and i!=end):\n",
    "                l1.append(i)\n",
    "        l1.append(end)\n",
    "        print(*l1)\n",
    "        continue"
   ]
  }
 ],
 "metadata": {
  "kernelspec": {
   "display_name": "Python 3",
   "language": "python",
   "name": "python3"
  },
  "language_info": {
   "codemirror_mode": {
    "name": "ipython",
    "version": 3
   },
   "file_extension": ".py",
   "mimetype": "text/x-python",
   "name": "python",
   "nbconvert_exporter": "python",
   "pygments_lexer": "ipython3",
   "version": "3.11.9"
  }
 },
 "nbformat": 4,
 "nbformat_minor": 2
}

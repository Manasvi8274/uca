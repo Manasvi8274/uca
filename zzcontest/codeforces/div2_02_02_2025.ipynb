{
 "cells": [
  {
   "cell_type": "code",
   "execution_count": null,
   "metadata": {},
   "outputs": [],
   "source": []
  },
  {
   "cell_type": "code",
   "execution_count": null,
   "metadata": {},
   "outputs": [],
   "source": [
    "for _ in range(int(input())):\n",
    "    n=int(input())\n",
    "    l1=list(map(int,input().split()))\n",
    "    l2=list(map(int,input().split()))\n",
    "    s1=set(l1)\n",
    "    s2=set(l2)\n",
    "    print(s1+s2>=4)"
   ]
  },
  {
   "cell_type": "code",
   "execution_count": 5,
   "metadata": {},
   "outputs": [
    {
     "name": "stdout",
     "output_type": "stream",
     "text": [
      "[1, 2, 3, 4, 0]\n",
      "5\n"
     ]
    }
   ],
   "source": [
    "for _ in range(int(input())):\n",
    "    n,k=map(int,input().split())\n",
    "    l=list(map(int,input().split()))\n",
    "    ans=k+1\n",
    "    if(n<=2):\n",
    "        if(k == 2 and l!=[1,1]):\n",
    "            print(1)\n",
    "            continue\n",
    "        else:\n",
    "            print(2)\n",
    "            continue\n",
    "    elif(n == k):\n",
    "        ans=n\n",
    "        l1=[l[i] for i in range(n) if i%2!=0]\n",
    "        l1.append(0)\n",
    "        for i in range(len(l1)):\n",
    "            if(i+1!=l1[i]):\n",
    "                ans=min(ans,i+1)\n",
    "        print(ans)\n",
    "        continue\n",
    "    else:\n",
    "        for i in range(1,n-k-1):\n",
    "            if(l[i]!=1):\n",
    "                ans=1\n",
    "                break\n",
    "\n",
    "        if(ans==1):\n",
    "            print(ans)\n",
    "            continue\n",
    "        else:\n",
    "            print(2)\n",
    "            continue"
   ]
  },
  {
   "cell_type": "code",
   "execution_count": null,
   "metadata": {},
   "outputs": [],
   "source": [
    "1 1 "
   ]
  }
 ],
 "metadata": {
  "kernelspec": {
   "display_name": "Python 3",
   "language": "python",
   "name": "python3"
  },
  "language_info": {
   "codemirror_mode": {
    "name": "ipython",
    "version": 3
   },
   "file_extension": ".py",
   "mimetype": "text/x-python",
   "name": "python",
   "nbconvert_exporter": "python",
   "pygments_lexer": "ipython3",
   "version": "3.11.9"
  }
 },
 "nbformat": 4,
 "nbformat_minor": 2
}

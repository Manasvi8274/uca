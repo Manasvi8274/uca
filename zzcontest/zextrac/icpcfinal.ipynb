{
 "cells": [
  {
   "cell_type": "code",
   "execution_count": 16,
   "metadata": {},
   "outputs": [
    {
     "name": "stdout",
     "output_type": "stream",
     "text": [
      "0 1 2\n"
     ]
    }
   ],
   "source": [
    "for _ in range(int(input())):\n",
    "    n,k = map(int,input().split())\n",
    "    l=list(map(int,input().split()))\n",
    "    l.sort(reverse = True)\n",
    "    t=0\n",
    "    ans=[]\n",
    "    for i in l:\n",
    "        if(t==k):\n",
    "            t=0\n",
    "            ans.append(0)\n",
    "            continue\n",
    "        else:\n",
    "            ans.append(i)\n",
    "            t+=1\n",
    "    ans.reverse()\n",
    "    for i in range(1,len(ans)):\n",
    "        ans[i] = ans[i] + ans[i-1]\n",
    "    print(*ans)"
   ]
  },
  {
   "cell_type": "code",
   "execution_count": null,
   "metadata": {},
   "outputs": [
    {
     "name": "stdout",
     "output_type": "stream",
     "text": [
      "23\n"
     ]
    }
   ],
   "source": [
    "for _ in range(int(input())):\n",
    "    n,k = map(int,input().split())\n",
    "    l=list(map(int,input().split()))\n",
    "    l.sort()\n",
    "    s=0\n",
    "    t=0\n",
    "    ans=[]\n",
    "    for i in range(n):\n",
    "        s+=l[i]\n",
    "        c=0\n",
    "        j=i-k\n",
    "        while(j>=0):\n",
    "            c+=l[j]\n",
    "            j=j-k-1\n",
    "        ans.append(s-c)\n",
    "        print()\n",
    "    print(*ans)"
   ]
  },
  {
   "cell_type": "code",
   "execution_count": 25,
   "metadata": {},
   "outputs": [
    {
     "name": "stdout",
     "output_type": "stream",
     "text": [
      "3\n"
     ]
    }
   ],
   "source": [
    "n1=int(input())\n",
    "n=list(map(int,input().split()))\n",
    "for i in n:\n",
    "    if(i == 4):\n",
    "        print(1)\n",
    "        continue\n",
    "    ans=0\n",
    "    t=4\n",
    "    while(t<i):\n",
    "        if(i%t == 0):\n",
    "            ans+=1\n",
    "        else:\n",
    "            break\n",
    "        t=t*2\n",
    "    print(ans)"
   ]
  },
  {
   "cell_type": "code",
   "execution_count": null,
   "metadata": {},
   "outputs": [],
   "source": [
    "\n"
   ]
  }
 ],
 "metadata": {
  "kernelspec": {
   "display_name": "Python 3",
   "language": "python",
   "name": "python3"
  },
  "language_info": {
   "codemirror_mode": {
    "name": "ipython",
    "version": 3
   },
   "file_extension": ".py",
   "mimetype": "text/x-python",
   "name": "python",
   "nbconvert_exporter": "python",
   "pygments_lexer": "ipython3",
   "version": "3.11.9"
  }
 },
 "nbformat": 4,
 "nbformat_minor": 2
}

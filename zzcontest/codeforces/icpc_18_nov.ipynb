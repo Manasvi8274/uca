{
 "cells": [
  {
   "cell_type": "code",
   "execution_count": null,
   "metadata": {},
   "outputs": [],
   "source": [
    "station=0\n",
    "for _ in range(int(input())):\n",
    "    s=input().split()\n",
    "    if(s[0] == \"P\"):\n",
    "        station+=int(s[1])\n",
    "    else:\n",
    "        if(station < int(s[1])):\n",
    "            print(\"YES\")\n",
    "            station = 0\n",
    "        else:\n",
    "            print(\"NO\")\n",
    "            station = station -  int(s[1])"
   ]
  },
  {
   "cell_type": "code",
   "execution_count": null,
   "metadata": {},
   "outputs": [
    {
     "ename": "SyntaxError",
     "evalue": "incomplete input (75748349.py, line 17)",
     "output_type": "error",
     "traceback": [
      "\u001b[1;36m  Cell \u001b[1;32mIn[2], line 17\u001b[1;36m\u001b[0m\n\u001b[1;33m    else:\u001b[0m\n\u001b[1;37m         ^\u001b[0m\n\u001b[1;31mSyntaxError\u001b[0m\u001b[1;31m:\u001b[0m incomplete input\n"
     ]
    }
   ],
   "source": [
    "for _ in range(int(input())):\n",
    "    n=int(input())\n",
    "    l=list(map(int,input().split()))\n",
    "    d={}\n",
    "    for i in l:\n",
    "        if(i not in d):\n",
    "            d[i] = 1\n",
    "        else:\n",
    "            d[i]+=1\n",
    "    l1 = []\n",
    "    for i in d:\n",
    "        if(d[i] >= 2):\n",
    "            l1.append(i)\n",
    "    l1.sort()\n",
    "    a,b,c,d = -1,-1,-1,-1\n",
    "    if(len(d) == 1 and d[l1[0]] >= 8):\n",
    "        a,b,c,d= l1[0],l1[0],l1[0],l1[0]\n",
    "    if(d[l1[0]] >= 4 and l1[0] != l1[-1] and d[l1[-1]]>=4):\n",
    "        a,b = l1[0],l1[0]\n",
    "        c,d = l1[-1],l1[-1]\n",
    "    \n",
    "        \n",
    "    # a,b,c,d=0,0,0,0\n",
    "    # for i in range(1,len(l1)+1):\n",
    "    #     if(l[-i] - l[1] == l[-i-1] - l[0]):\n",
    "    #         a,b,c,d = l[0],l[1],l[-i-1],l[-i]\n",
    "    #     elif(l[-i] - l[0] == l[-i-1] - l[1]):\n",
    "    #         a,b,c,d = l[1],l[0],l[-i-1],l[-i]\n",
    "    # if(a,b,c,d == 0,0,0,0):\n",
    "    #     print(\"NO1\")\n",
    "    # else:\n",
    "    #     print(\"YES\")\n",
    "    #     print()"
   ]
  },
  {
   "cell_type": "code",
   "execution_count": null,
   "metadata": {},
   "outputs": [],
   "source": [
    "n,k = map(int,input().split())\n",
    "bonus = list(map(int,input().split()))\n",
    "benefit = list(map(int,input().split()))\n",
    "maxwork = [bonus[i]//benefit[i] for i in range(n)]\n",
    "s=sum(maxwork)\n",
    "if(s < k ):\n",
    "    print(\"0 \"*n)\n",
    "elif(s == k):\n",
    "    print(*(maxwork))\n",
    "else:\n",
    "    k=k-s\n",
    "    for i in range(n):\n",
    "        if(k>maxwork[i]):\n",
    "            k=k-maxwork[i]\n",
    "            maxwork[i] = 0\n",
    "        else:\n",
    "            maxwork[i] -= k\n",
    "            k=0\n",
    "        if(k == 0):\n",
    "            break\n",
    "    print(*(maxwork))"
   ]
  },
  {
   "cell_type": "code",
   "execution_count": null,
   "metadata": {},
   "outputs": [],
   "source": [
    "import math\n",
    "n=int(input())\n",
    "print(n+math.ceil(n/6))"
   ]
  }
 ],
 "metadata": {
  "kernelspec": {
   "display_name": "Python 3",
   "language": "python",
   "name": "python3"
  },
  "language_info": {
   "codemirror_mode": {
    "name": "ipython",
    "version": 3
   },
   "file_extension": ".py",
   "mimetype": "text/x-python",
   "name": "python",
   "nbconvert_exporter": "python",
   "pygments_lexer": "ipython3",
   "version": "3.11.9"
  }
 },
 "nbformat": 4,
 "nbformat_minor": 2
}

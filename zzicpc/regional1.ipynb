{
 "cells": [
  {
   "cell_type": "code",
   "execution_count": null,
   "metadata": {},
   "outputs": [],
   "source": [
    "for _ in range(int(input())):\n",
    "    n=int(input())\n",
    "    s=input()\n",
    "    c=0\n",
    "    ans=0\n",
    "    for i in s:\n",
    "        if(i == '('):\n",
    "            c+=1\n",
    "        else:\n",
    "            if(c!=0):\n",
    "                ans+=c\n",
    "                c-=1\n",
    "    print(ans)"
   ]
  },
  {
   "cell_type": "code",
   "execution_count": 17,
   "metadata": {},
   "outputs": [
    {
     "name": "stdout",
     "output_type": "stream",
     "text": [
      "7\n"
     ]
    }
   ],
   "source": [
    "n=int(input())\n",
    "l=0\n",
    "e=0\n",
    "o=0\n",
    "n1=n\n",
    "while(n1>0):\n",
    "    if((n1%10)%2 == 0):\n",
    "        e+=1\n",
    "    else:\n",
    "        o+=1\n",
    "    n1=n1//10\n",
    "ans=0\n",
    "for i in range(o):\n",
    "    ans+=e -i\n",
    "ans=ans+((e+1)*e//2)\n",
    "print(ans +1)"
   ]
  },
  {
   "cell_type": "code",
   "execution_count": null,
   "metadata": {},
   "outputs": [],
   "source": []
  }
 ],
 "metadata": {
  "kernelspec": {
   "display_name": "Python 3",
   "language": "python",
   "name": "python3"
  },
  "language_info": {
   "codemirror_mode": {
    "name": "ipython",
    "version": 3
   },
   "file_extension": ".py",
   "mimetype": "text/x-python",
   "name": "python",
   "nbconvert_exporter": "python",
   "pygments_lexer": "ipython3",
   "version": "3.11.9"
  }
 },
 "nbformat": 4,
 "nbformat_minor": 2
}

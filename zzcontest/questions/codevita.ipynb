{
 "cells": [
  {
   "cell_type": "code",
   "execution_count": null,
   "metadata": {},
   "outputs": [],
   "source": [
    "4,5\n",
    "1 3\n",
    "3 2\n",
    "0 3\n",
    "0 1\n",
    "2 1\n",
    "8"
   ]
  },
  {
   "cell_type": "code",
   "execution_count": 2,
   "metadata": {},
   "outputs": [
    {
     "name": "stdout",
     "output_type": "stream",
     "text": [
      "5\n"
     ]
    }
   ],
   "source": [
    "n,m = map(int,input().split())\n",
    "currday = [1 for i in range(n)]\n",
    "d={}\n",
    "for i in range(m):\n",
    "    a,b = map(int,input().split())\n",
    "    if(a in d):\n",
    "        d[a].append(b)\n",
    "    if(b in d):\n",
    "        d[b].append(a)\n",
    "    if(a not in d):\n",
    "        d[a] = [b]\n",
    "    if(b not in d):\n",
    "        d[b] = [a]\n",
    "k = int(input())\n",
    "if(k <= n):\n",
    "    print(1)\n",
    "else:\n",
    "    k=k-sum(currday)\n",
    "    number_of_days = 1\n",
    "    while(k>0):\n",
    "        nextday = []\n",
    "        for i in range(len(currday)):\n",
    "            if(currday[i] == 1):\n",
    "                if(len(d[currday[i]]) < 3):\n",
    "                    nextday.append(0)\n",
    "                else:\n",
    "                    c = 0\n",
    "                    for j in d[currday[i]]:\n",
    "                        if(j == 1):\n",
    "                            c+=1\n",
    "                    if(c == 3):\n",
    "                        nextday.append(1)\n",
    "                    else:\n",
    "                        nextday.append(0)\n",
    "            else:\n",
    "                c=0\n",
    "                for j in d[currday[i]]:\n",
    "                    if(j == 0):\n",
    "                        c+=1\n",
    "                if(c<3):\n",
    "                    nextday.append(1)\n",
    "                else:\n",
    "                    nextday.append(0)\n",
    "        currday=nextday\n",
    "        k-=sum(currday)\n",
    "        number_of_days+=1\n",
    "    print(number_of_days)"
   ]
  },
  {
   "cell_type": "code",
   "execution_count": 36,
   "metadata": {},
   "outputs": [],
   "source": [
    "l = list(\"4 2 4 6 6 5 6 7 1 3 3 5 3 5 4 4 3 3 7 7 2 2 2 5 4 4 5 3\".split(\" \"))"
   ]
  },
  {
   "cell_type": "code",
   "execution_count": 37,
   "metadata": {},
   "outputs": [
    {
     "name": "stdout",
     "output_type": "stream",
     "text": [
      "['4', '2', '4', '6', '6', '5', '6', '7', '1', '3', '3', '5', '3', '5', '4', '4', '3', '3', '7', '7', '2', '2', '2', '5', '4', '4', '5', '3']\n"
     ]
    }
   ],
   "source": [
    "print(l)"
   ]
  },
  {
   "cell_type": "code",
   "execution_count": 38,
   "metadata": {},
   "outputs": [],
   "source": [
    "l = [[int(l[i]),int(l[i+1])] for i in range(0,len(l),2)]\n",
    "# d={l[i]:l[i+1] for i in range(0,len(l),2)}"
   ]
  },
  {
   "cell_type": "code",
   "execution_count": 39,
   "metadata": {},
   "outputs": [
    {
     "name": "stdout",
     "output_type": "stream",
     "text": [
      "[[4, 2], [4, 6], [6, 5], [6, 7], [1, 3], [3, 5], [3, 5], [4, 4], [3, 3], [7, 7], [2, 2], [2, 5], [4, 4], [5, 3]]\n"
     ]
    }
   ],
   "source": [
    "print(l)"
   ]
  },
  {
   "cell_type": "code",
   "execution_count": 40,
   "metadata": {},
   "outputs": [],
   "source": [
    "l2 = [[l[i],l[i+1]] for i in range(0,len(l),2)]"
   ]
  },
  {
   "cell_type": "code",
   "execution_count": 43,
   "metadata": {},
   "outputs": [
    {
     "name": "stdout",
     "output_type": "stream",
     "text": [
      "[[[1, 3], [3, 5]], [[2, 2], [2, 5]], [[3, 3], [7, 7]], [[3, 5], [4, 4]], [[4, 2], [4, 6]], [[4, 4], [5, 3]], [[6, 5], [6, 7]]]\n"
     ]
    }
   ],
   "source": [
    "l2.sort()\n",
    "print(l2)"
   ]
  },
  {
   "cell_type": "code",
   "execution_count": 42,
   "metadata": {},
   "outputs": [
    {
     "name": "stdout",
     "output_type": "stream",
     "text": [
      "[[1, 3], [2, 2], [2, 5], [3, 3], [3, 5], [3, 5], [4, 2], [4, 4], [4, 4], [4, 6], [5, 3], [6, 5], [6, 7], [7, 7]]\n"
     ]
    }
   ],
   "source": [
    "l.sort()\n",
    "print(l)"
   ]
  },
  {
   "cell_type": "code",
   "execution_count": null,
   "metadata": {},
   "outputs": [
    {
     "name": "stdout",
     "output_type": "stream",
     "text": [
      "[[5], [0, 8, 2, 6], [3]]\n",
      "invalid\n"
     ]
    }
   ],
   "source": [
    "a=input()\n",
    "b=input()\n",
    "c=input()\n",
    "\n",
    "a=[[int(a[i]),int(a[i+1]),int(a[i+2])] for i in range(0,len(a),3)]\n",
    "b=[[int(b[i]),int(b[i+1]),int(b[i+2])] for i in range(0,len(b),3)]\n",
    "c=[[int(c[i]),int(c[i+1]),int(c[i+2])] for i in range(0,len(c),3)]\n",
    "\n",
    "dp=[]\n",
    "for i in range(len(a)):\n",
    "    dp.append([a[i],b[i],c[i]])\n",
    "# print(dp)\n",
    "\n",
    "d=input()\n",
    "e=input()\n",
    "f=input()\n",
    "\n",
    "d=[[int(d[i]),int(d[i+1]),int(d[i+2])] for i in range(0,len(d),3)]\n",
    "e=[[int(e[i]),int(e[i+1]),int(e[i+2])] for i in range(0,len(e),3)]\n",
    "f=[[int(f[i]),int(f[i+1]),int(f[i+2])] for i in range(0,len(f),3)]\n",
    "given=[]\n",
    "for i in range(len(d)):\n",
    "    given.append([d[i],e[i],f[i]])\n",
    "ans_list = []\n",
    "\n",
    "# print(given)\n",
    "\n",
    "for i in range(len(given)):\n",
    "    # print(given[i])\n",
    "    l=[]\n",
    "    for j in given[i]:\n",
    "        # print(j)\n",
    "        for z in range(len(dp)):\n",
    "            if(dp[z] == given[i]):\n",
    "                l.append(z)\n",
    "        for k in range(3):\n",
    "            if(j[k] == 0):\n",
    "                j[k] = 1\n",
    "            else:\n",
    "                j[k] = 0\n",
    "            # print(j)\n",
    "            # print(\"after changing \", k ,\" position = \",given[i])\n",
    "            for z in range(len(dp)):\n",
    "                if(dp[z] == given[i]):\n",
    "                    l.append(z)\n",
    "            if(j[k] == 0):\n",
    "                j[k] = 1\n",
    "            else:\n",
    "                j[k] = 0\n",
    "    # print(l)\n",
    "    if(len(l)==0):\n",
    "        continue\n",
    "    ans_list.append(list(set(l)))\n",
    "# print(ans_list)\n",
    "if(len(ans_list)!=len(d)):\n",
    "    print(\"Invalid\")\n",
    "else:\n",
    "    finalanslist=[0]\n",
    "    for i in ans_list:\n",
    "        l=len(finalanslist)\n",
    "        finalanslist = finalanslist * len(i)\n",
    "        # print(\"before finalanslist = \",finalanslist,\"l = \",l)\n",
    "        x=0\n",
    "        for j in i:\n",
    "            for k in range(l):\n",
    "                finalanslist[(x*l)+k] = finalanslist[(x*l)+k]*10 + j\n",
    "            x+=1\n",
    "        # print(\"i= \",i,\"after finalanslist = \",finalanslist)\n",
    "    # print(finalanslist)\n",
    "    print(sum(finalanslist),end=\"\")"
   ]
  },
  {
   "cell_type": "code",
   "execution_count": 38,
   "metadata": {},
   "outputs": [
    {
     "name": "stdout",
     "output_type": "stream",
     "text": [
      "[3, 4]\n"
     ]
    }
   ],
   "source": [
    "def fun(a,b,l):\n",
    "    l.append(a)\n",
    "    l.append(b)\n",
    "    \n",
    "l1=[]\n",
    "fun(3,4,l1)\n",
    "print(l1)"
   ]
  },
  {
   "cell_type": "code",
   "execution_count": null,
   "metadata": {},
   "outputs": [],
   "source": [
    "def fun(l,anslist):\n",
    "    x=1\n",
    "    \n",
    "    \n",
    "\n",
    "l = [[1,2,3],[4,5,6],[7,8,9]]"
   ]
  }
 ],
 "metadata": {
  "kernelspec": {
   "display_name": "Python 3",
   "language": "python",
   "name": "python3"
  },
  "language_info": {
   "codemirror_mode": {
    "name": "ipython",
    "version": 3
   },
   "file_extension": ".py",
   "mimetype": "text/x-python",
   "name": "python",
   "nbconvert_exporter": "python",
   "pygments_lexer": "ipython3",
   "version": "3.11.9"
  }
 },
 "nbformat": 4,
 "nbformat_minor": 2
}

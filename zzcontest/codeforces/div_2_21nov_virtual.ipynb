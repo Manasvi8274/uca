{
 "cells": [
  {
   "cell_type": "code",
   "execution_count": null,
   "metadata": {},
   "outputs": [],
   "source": []
  },
  {
   "cell_type": "code",
   "execution_count": null,
   "metadata": {},
   "outputs": [
    {
     "ename": "SyntaxError",
     "evalue": "incomplete input (2067841743.py, line 11)",
     "output_type": "error",
     "traceback": [
      "\u001b[1;36m  Cell \u001b[1;32mIn[1], line 11\u001b[1;36m\u001b[0m\n\u001b[1;33m    for i in d:\u001b[0m\n\u001b[1;37m               ^\u001b[0m\n\u001b[1;31mSyntaxError\u001b[0m\u001b[1;31m:\u001b[0m incomplete input\n"
     ]
    }
   ],
   "source": [
    "for _ in range(int(input())):\n",
    "    n=int(input())\n",
    "    l=list(map(int,input().split()))\n",
    "    d={}\n",
    "    for i in l:\n",
    "        if i in d:\n",
    "            d[i]+=1\n",
    "        else:\n",
    "            d[i]=1\n",
    "    x=0\n",
    "    for i in d:\n",
    "        x=max(x,d[i])\n",
    "    print(n-x)"
   ]
  },
  {
   "cell_type": "code",
   "execution_count": null,
   "metadata": {},
   "outputs": [
    {
     "ename": "SyntaxError",
     "evalue": "incomplete input (3580186819.py, line 1)",
     "output_type": "error",
     "traceback": [
      "\u001b[1;36m  Cell \u001b[1;32mIn[2], line 1\u001b[1;36m\u001b[0m\n\u001b[1;33m    for _ in range(int(input())):\u001b[0m\n\u001b[1;37m                                 ^\u001b[0m\n\u001b[1;31mSyntaxError\u001b[0m\u001b[1;31m:\u001b[0m incomplete input\n"
     ]
    }
   ],
   "source": [
    "for _ in range(int(input())):\n",
    "    n=int(input())\n",
    "    if(n<27):\n",
    "        if(n%2!=0):\n",
    "            print(-1)\n",
    "            continue\n",
    "        else:\n",
    "            l=[]\n",
    "            for i in range(n//2):\n",
    "                l.append(i)\n",
    "                l.append(i)\n",
    "            print(*(l))\n",
    "            continue\n",
    "    else:\n",
    "        l=list((\"2 1 3 3 2 4 4 5 5 6 6 7 7 8 8 9 9 1 10 10 11 11 12 12 13 13 1\").split(\" \"))\n",
    "        x=14\n",
    "        n=n-27\n",
    "        for i in range(n//2):\n",
    "            l.append(x)\n",
    "            l.append(x)\n",
    "            x+=1\n",
    "        print(*(l))"
   ]
  },
  {
   "cell_type": "code",
   "execution_count": 5,
   "metadata": {},
   "outputs": [],
   "source": [
    "l=list((\"2 1 3 3 2 4 4 5 5 6 6 7 7 8 8 9 9 1 10 10 11 11 12 12 13 13 1\").split(\" \"))"
   ]
  },
  {
   "cell_type": "code",
   "execution_count": 6,
   "metadata": {},
   "outputs": [
    {
     "name": "stdout",
     "output_type": "stream",
     "text": [
      "['2', '1', '3', '3', '2', '4', '4', '5', '5', '6', '6', '7', '7', '8', '8', '9', '9', '1', '10', '10', '11', '11', '12', '12', '13', '13', '1']\n"
     ]
    }
   ],
   "source": [
    "print(l)"
   ]
  },
  {
   "cell_type": "code",
   "execution_count": 7,
   "metadata": {},
   "outputs": [
    {
     "name": "stdout",
     "output_type": "stream",
     "text": [
      "Note: you may need to restart the kernel to use updated packages.Collecting binarytree\n",
      "  Downloading binarytree-6.5.1-py3-none-any.whl.metadata (9.8 kB)\n",
      "Collecting graphviz (from binarytree)\n",
      "  Downloading graphviz-0.20.3-py3-none-any.whl.metadata (12 kB)\n",
      "Requirement already satisfied: setuptools>=60.8.2 in c:\\users\\manu1\\appdata\\local\\programs\\python\\python311\\lib\\site-packages (from binarytree) (65.5.0)\n",
      "Collecting setuptools-scm>=5.0.1 (from setuptools-scm[toml]>=5.0.1->binarytree)\n",
      "  Downloading setuptools_scm-8.1.0-py3-none-any.whl.metadata (6.6 kB)\n",
      "Requirement already satisfied: packaging>=20 in c:\\users\\manu1\\appdata\\local\\programs\\python\\python311\\lib\\site-packages (from setuptools-scm>=5.0.1->setuptools-scm[toml]>=5.0.1->binarytree) (24.0)\n",
      "Downloading binarytree-6.5.1-py3-none-any.whl (18 kB)\n",
      "Downloading setuptools_scm-8.1.0-py3-none-any.whl (43 kB)\n",
      "Downloading graphviz-0.20.3-py3-none-any.whl (47 kB)\n",
      "Installing collected packages: setuptools-scm, graphviz, binarytree\n",
      "Successfully installed binarytree-6.5.1 graphviz-0.20.3 setuptools-scm-8.1.0\n",
      "\n"
     ]
    },
    {
     "name": "stderr",
     "output_type": "stream",
     "text": [
      "\n",
      "[notice] A new release of pip is available: 24.2 -> 24.3.1\n",
      "[notice] To update, run: python.exe -m pip install --upgrade pip\n"
     ]
    }
   ],
   "source": [
    "pip install binarytree"
   ]
  },
  {
   "cell_type": "code",
   "execution_count": null,
   "metadata": {},
   "outputs": [],
   "source": [
    "for _ in range(int(input())):\n",
    "    n=int(input())\n",
    "    l=list(map(int,input().split()))\n",
    "    mxar=[]\n",
    "    mx=0\n",
    "    for i in range(n):\n",
    "        mx = max(mx,l[i])\n",
    "        mxar.append(mx)\n",
    "    mnar=[]\n",
    "    mn=mxar[-1]\n",
    "    for i in range(1,n+1):\n",
    "        mn = min(mn,l[-i])\n",
    "        mnar.append(mn)\n",
    "    mnar.reverse()\n",
    "    d={i:[mxar[i],mnar[i]] for i in range(n)}\n",
    "    \n",
    "    ll=[[l[i],i] for i in range(n)]\n",
    "    ll.sort()\n",
    "    ans ={}\n",
    "    \n",
    "    for i in ll:\n",
    "        a=i[0]\n",
    "        b=i[1]\n",
    "        if(a not in ans):\n",
    "            x,y = d[b][0],d[b][1]\n",
    "            if(x in ans):\n",
    "                x = max(x,max(ans[x]))\n",
    "            if(y in ans):\n",
    "                y = max(y,max(ans[y]))\n",
    "            ans[a] = [max(x,y)]\n",
    "        else:\n",
    "            x,y = d[b][0],d[b][1]\n",
    "            if(x in ans):\n",
    "                x = max(x,max(ans[x]))\n",
    "            if(y in ans):\n",
    "                y = max(y,max(ans[y]))\n",
    "            ans[a].append(max(x,y,max(ans[a])))\n",
    "    finalans=[]\n",
    "    for i in l:\n",
    "        for j in range(len(ans[i])):\n",
    "            if(ans[i][j]!=-1):\n",
    "                finalans.append(ans[i][j])\n",
    "                ans[i][j]=-1\n",
    "    print(*(finalans))"
   ]
  },
  {
   "cell_type": "code",
   "execution_count": null,
   "metadata": {},
   "outputs": [
    {
     "name": "stdout",
     "output_type": "stream",
     "text": [
      "[1, 2, 3, 100, 5, 6]\n"
     ]
    }
   ],
   "source": [
    "for _ in range(int(input())):\n",
    "    n=int(input())\n",
    "    l=list(map(int,input().split()))\n",
    "    mxar=[]\n",
    "    mx=0\n",
    "    for i in range(n):\n",
    "        mx = max(mx,l[i])\n",
    "        mxar.append(mx)\n",
    "    print(\"mxar = \",mxar)\n",
    "    mi=n-1\n",
    "    mv=mxar[n-1]\n",
    "    ans=[]\n",
    "    for i in range(1,n+1):\n",
    "        if(mi < l[-i]):\n",
    "            mi = l[-i]\n",
    "            mv = max(mv , mxar[i])\n",
    "        ans.append(mv)\n",
    "    ans.reverse()\n",
    "    print(*(ans))"
   ]
  },
  {
   "cell_type": "code",
   "execution_count": null,
   "metadata": {},
   "outputs": [],
   "source": []
  }
 ],
 "metadata": {
  "kernelspec": {
   "display_name": "Python 3",
   "language": "python",
   "name": "python3"
  },
  "language_info": {
   "codemirror_mode": {
    "name": "ipython",
    "version": 3
   },
   "file_extension": ".py",
   "mimetype": "text/x-python",
   "name": "python",
   "nbconvert_exporter": "python",
   "pygments_lexer": "ipython3",
   "version": "3.11.9"
  }
 },
 "nbformat": 4,
 "nbformat_minor": 2
}

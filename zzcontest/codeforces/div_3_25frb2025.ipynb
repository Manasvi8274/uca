{
 "cells": [
  {
   "cell_type": "code",
   "execution_count": 1,
   "metadata": {},
   "outputs": [
    {
     "name": "stdout",
     "output_type": "stream",
     "text": [
      "ko\n"
     ]
    }
   ],
   "source": [
    "print(\"ko\")"
   ]
  },
  {
   "cell_type": "code",
   "execution_count": null,
   "metadata": {},
   "outputs": [],
   "source": [
    "for _ in range(int(input())):\n",
    "    n,k,p = map(int,input().split())\n",
    "    if(k > p*n or k<-p*n):\n",
    "        print(-1)\n",
    "    elif(k == 0):\n",
    "        print(0)\n",
    "    else:\n",
    "        if(k<0):\n",
    "            k=-k\n",
    "        x = k//p + (1 if k%p>0 else 0)\n",
    "        print(x)"
   ]
  },
  {
   "cell_type": "code",
   "execution_count": null,
   "metadata": {},
   "outputs": [],
   "source": [
    "import math\n",
    "for _ in range(int(input())):\n",
    "    n=int(input())\n",
    "    s=input()\n",
    "    c1=s.count(\"-\")\n",
    "    c2 = n-c1\n",
    "    if(n <=2):\n",
    "        print(0)\n",
    "        continue\n",
    "    if(c1 <=1 or c2==0):\n",
    "        print(0)\n",
    "        continue\n",
    "    print((math.ceil(c1/2))*(c2)*(c1//2))"
   ]
  },
  {
   "cell_type": "code",
   "execution_count": null,
   "metadata": {},
   "outputs": [
    {
     "name": "stdout",
     "output_type": "stream",
     "text": [
      "7\n"
     ]
    }
   ],
   "source": [
    "for _ in range(int(input())):\n",
    "    n,x=map(int,input().split())\n",
    "    bt = \"\"\n",
    "    i=n\n",
    "    while(i>0):\n",
    "        if(i%2 == 0):\n",
    "            bt+=\"0\"\n",
    "        else:\n",
    "            bt+=\"1\"\n",
    "        i=i//2\n",
    "    bt=bt[::-1]\n",
    "    l=[]\n",
    "    i=0\n",
    "    while(len(l)<n):\n",
    "        t=i\n",
    "        s1=\"\"\n",
    "        while(t>0):\n",
    "            if(t%2==0):\n",
    "                s1+=\"0\"\n",
    "            else:\n",
    "                s1+=\"1\"\n",
    "            t=t//2\n",
    "        s1=s1[::-1]\n",
    "        flag=True\n",
    "        for j in range(len(s1)):\n",
    "            if(bt[j] == \"0\" and s1[j] == \"1\"):\n",
    "                flag=False\n",
    "                break\n",
    "        if(flag):\n",
    "            l.append(i)\n",
    "    print(*l)"
   ]
  },
  {
   "cell_type": "code",
   "execution_count": null,
   "metadata": {},
   "outputs": [
    {
     "name": "stdout",
     "output_type": "stream",
     "text": [
      "[0, 1, 2, 3, 4, 5, 6]\n"
     ]
    }
   ],
   "source": []
  },
  {
   "cell_type": "code",
   "execution_count": null,
   "metadata": {},
   "outputs": [],
   "source": []
  }
 ],
 "metadata": {
  "kernelspec": {
   "display_name": "Python 3",
   "language": "python",
   "name": "python3"
  },
  "language_info": {
   "codemirror_mode": {
    "name": "ipython",
    "version": 3
   },
   "file_extension": ".py",
   "mimetype": "text/x-python",
   "name": "python",
   "nbconvert_exporter": "python",
   "pygments_lexer": "ipython3",
   "version": "3.11.9"
  }
 },
 "nbformat": 4,
 "nbformat_minor": 2
}

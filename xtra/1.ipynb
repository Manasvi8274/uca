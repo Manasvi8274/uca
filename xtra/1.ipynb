{
 "cells": [
  {
   "cell_type": "code",
   "execution_count": 53,
   "metadata": {},
   "outputs": [
    {
     "name": "stdout",
     "output_type": "stream",
     "text": [
      "c\n",
      "c\n",
      "c\n",
      "18\n"
     ]
    }
   ],
   "source": [
    "ans=0\n",
    "oldName = \"cccc\"\n",
    "newName = \"ccc\"\n",
    "ans=0\n",
    "d={}\n",
    "c=0\n",
    "for i in oldName:\n",
    "    if i in d:\n",
    "        d[i].append(c)\n",
    "    else:\n",
    "        d[i]=[c]\n",
    "    c+=1\n",
    "for i in range(len(newName)):\n",
    "    print(oldName[i])\n",
    "    if(i==len(newName)-1):\n",
    "        for j in d[newName[i-1]]:\n",
    "            for k in d[newName[i]]:\n",
    "                if(j<k):\n",
    "                    ans+=1\n",
    "    else:\n",
    "        for j in d[newName[i]]:\n",
    "            for k in d[newName[i+1]]:\n",
    "                if(j<k):\n",
    "                    ans+=1\n",
    "print(ans)"
   ]
  },
  {
   "cell_type": "code",
   "execution_count": 49,
   "metadata": {},
   "outputs": [
    {
     "name": "stdout",
     "output_type": "stream",
     "text": [
      "{'a': [0, 1, 2], 'b': [3, 4, 5], 'c': [6, 7, 8]}\n"
     ]
    }
   ],
   "source": [
    "print(d)"
   ]
  },
  {
   "cell_type": "code",
   "execution_count": null,
   "metadata": {},
   "outputs": [],
   "source": []
  }
 ],
 "metadata": {
  "kernelspec": {
   "display_name": "Python 3",
   "language": "python",
   "name": "python3"
  },
  "language_info": {
   "codemirror_mode": {
    "name": "ipython",
    "version": 3
   },
   "file_extension": ".py",
   "mimetype": "text/x-python",
   "name": "python",
   "nbconvert_exporter": "python",
   "pygments_lexer": "ipython3",
   "version": "3.11.9"
  }
 },
 "nbformat": 4,
 "nbformat_minor": 2
}

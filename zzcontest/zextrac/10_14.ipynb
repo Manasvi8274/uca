{
 "cells": [
  {
   "cell_type": "code",
   "execution_count": 4,
   "metadata": {},
   "outputs": [
    {
     "name": "stdout",
     "output_type": "stream",
     "text": [
      "6\n"
     ]
    }
   ],
   "source": [
    "for _ in range(int(input())):\n",
    "    n,r=map(int,input().split())\n",
    "    l=list(map(int,input().split()))\n",
    "    al = 0\n",
    "    occupied = 0\n",
    "    for i in l:\n",
    "        occupied += i//2\n",
    "        al+=i%2\n",
    "    if(al == 0 or al == 2*r - occupied):\n",
    "        print(occupied*2)\n",
    "    else:\n",
    "        r = r-occupied\n",
    "        al=al-r\n",
    "        if(al==0):\n",
    "            print(2*occupied+r)\n",
    "        else:\n",
    "            print(2*occupied+r-al)"
   ]
  },
  {
   "cell_type": "code",
   "execution_count": null,
   "metadata": {},
   "outputs": [],
   "source": [
    "3 3\n",
    "2 2 2"
   ]
  }
 ],
 "metadata": {
  "kernelspec": {
   "display_name": "Python 3",
   "language": "python",
   "name": "python3"
  },
  "language_info": {
   "codemirror_mode": {
    "name": "ipython",
    "version": 3
   },
   "file_extension": ".py",
   "mimetype": "text/x-python",
   "name": "python",
   "nbconvert_exporter": "python",
   "pygments_lexer": "ipython3",
   "version": "3.11.9"
  }
 },
 "nbformat": 4,
 "nbformat_minor": 2
}

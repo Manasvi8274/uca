{
 "cells": [
  {
   "cell_type": "code",
   "execution_count": 4,
   "metadata": {},
   "outputs": [
    {
     "name": "stdout",
     "output_type": "stream",
     "text": [
      "ko\n"
     ]
    }
   ],
   "source": [
    "print(\"ko\")"
   ]
  },
  {
   "cell_type": "code",
   "execution_count": null,
   "metadata": {},
   "outputs": [],
   "source": [
    "for _ in range(int(input())):\n",
    "    x,y=map(int,input().split())\n",
    "    if(x == y):\n",
    "        print(\"NO\")\n",
    "        continue\n",
    "    if(y - x == 1):\n",
    "        print(\"YES\")\n",
    "        continue\n",
    "    if(y-x >1):\n",
    "        print(\"NO\")\n",
    "        continue\n",
    "    if(x>y and (x-y+1)%9 == 0):\n",
    "        print(\"YES\")\n",
    "        continue\n",
    "    if(x>y and (x-y+1)%9 != 0):\n",
    "        print(\"NO\")\n",
    "        continue"
   ]
  },
  {
   "cell_type": "code",
   "execution_count": null,
   "metadata": {},
   "outputs": [],
   "source": [
    "for _ in range(int(input())):\n",
    "    n=int(input())\n",
    "    l=list(map(int,input().split()))\n",
    "    if(n == 2 and l[0] == l[1]):\n",
    "        print(\"YES\")\n",
    "        continue\n",
    "    elif(n == 2 and l[0]!=l[1]):\n",
    "        print(\"NO\")\n",
    "        continue\n",
    "    d={}\n",
    "    l.sort()\n",
    "    for i in l:\n",
    "        if i not in d:\n",
    "            d[i]=1\n",
    "        else:\n",
    "            d[i]+=1\n",
    "    ext=0\n",
    "    prev=-1\n",
    "    flag=True\n",
    "    for i in d:\n",
    "        if(prev == -1):\n",
    "            if(d[i] >=2):\n",
    "                ext+=d[i]-2\n",
    "                prev = i\n",
    "            else:\n",
    "                flag = False\n",
    "                break\n",
    "        else:\n",
    "            if(d[i]>=2 and d[i]%2 == 0):\n",
    "                ext+=d[i]-2\n",
    "            elif(d[i] >2 and i == l[-1] and d[i]%2!=0):\n",
    "                ext -= ((i-prev-1)*2 + 1)\n",
    "                if(ext <0):\n",
    "                    flag=False\n",
    "                    break\n",
    "        prev = i\n",
    "    if(flag):\n",
    "        print(\"YES\")\n",
    "    else:\n",
    "        print(\"NO\")"
   ]
  },
  {
   "cell_type": "code",
   "execution_count": 13,
   "metadata": {},
   "outputs": [
    {
     "name": "stdout",
     "output_type": "stream",
     "text": [
      "3\n"
     ]
    }
   ],
   "source": [
    "for _ in range(int(input())):\n",
    "    n=input()\n",
    "    s=n\n",
    "    mn=1000000\n",
    "    for i in range(1 , len(n) +1):\n",
    "        # print(\":JO\")\n",
    "        t=10**i -1\n",
    "        c=0\n",
    "        while(\"7\" not in n):\n",
    "            # print(\":JO\")\n",
    "            n=str(int(n)+t)\n",
    "            c+=1\n",
    "        mn=min(mn,c)\n",
    "        # print(mn)\n",
    "        n=s\n",
    "    print(mn)"
   ]
  },
  {
   "cell_type": "code",
   "execution_count": 1,
   "metadata": {},
   "outputs": [
    {
     "name": "stdout",
     "output_type": "stream",
     "text": [
      "[]\n"
     ]
    }
   ],
   "source": [
    "l=[1,2,3,4,5]\n",
    "print(l[:0])"
   ]
  },
  {
   "cell_type": "code",
   "execution_count": null,
   "metadata": {},
   "outputs": [],
   "source": []
  }
 ],
 "metadata": {
  "kernelspec": {
   "display_name": "Python 3",
   "language": "python",
   "name": "python3"
  },
  "language_info": {
   "codemirror_mode": {
    "name": "ipython",
    "version": 3
   },
   "file_extension": ".py",
   "mimetype": "text/x-python",
   "name": "python",
   "nbconvert_exporter": "python",
   "pygments_lexer": "ipython3",
   "version": "3.11.9"
  }
 },
 "nbformat": 4,
 "nbformat_minor": 2
}

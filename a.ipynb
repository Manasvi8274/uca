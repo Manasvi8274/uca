{
 "cells": [
  {
   "cell_type": "code",
   "execution_count": null,
   "metadata": {},
   "outputs": [],
   "source": []
  },
  {
   "cell_type": "code",
   "execution_count": 1,
   "metadata": {},
   "outputs": [
    {
     "name": "stdout",
     "output_type": "stream",
     "text": [
      "ji\n"
     ]
    }
   ],
   "source": [
    "print(\"ji\")"
   ]
  },
  {
   "cell_type": "code",
   "execution_count": null,
   "metadata": {},
   "outputs": [
    {
     "name": "stdout",
     "output_type": "stream",
     "text": [
      "{1: 4, 2: 4, 3: 2, 4: 4, 5: 1, 6: 1, 23: 1, 12: 1, 313: 1, 42: 1}\n"
     ]
    }
   ],
   "source": [
    "for _ in range(int(input())):\n",
    "    n=int(input())\n",
    "    s=input()\n",
    "    ans=0\n",
    "    for i in range(1,n):\n",
    "        if(s[i-1] == '1'  and s[i] == '0'):\n",
    "            ans+=2\n",
    "    if(s[-1] == '1'):\n",
    "        ans+=1\n",
    "    print(ans)\n",
    "    continue"
   ]
  },
  {
   "cell_type": "code",
   "execution_count": 2,
   "metadata": {},
   "outputs": [
    {
     "name": "stdout",
     "output_type": "stream",
     "text": [
      "321\n"
     ]
    }
   ],
   "source": [
    "s=\"123\"\n",
    "s=s[::-1]\n",
    "print(s)"
   ]
  },
  {
   "cell_type": "code",
   "execution_count": 1,
   "metadata": {},
   "outputs": [
    {
     "name": "stdout",
     "output_type": "stream",
     "text": [
      "jo\n"
     ]
    }
   ],
   "source": [
    "print(\"jo\")"
   ]
  },
  {
   "cell_type": "code",
   "execution_count": null,
   "metadata": {},
   "outputs": [],
   "source": []
  },
  {
   "cell_type": "code",
   "execution_count": 2,
   "metadata": {},
   "outputs": [
    {
     "name": "stdout",
     "output_type": "stream",
     "text": [
      "['unicomp6.unicomp.net', '-', '-', '[01/Jul/1995:00:00:06', '-0400]', '\\\\\"GET', '/shuttle/countdown/', 'HTTP/1.0\\\\\"', '200', '3985']\n",
      "['burger.letters.com', '-', '-', '[01/Jul/1995:00:00:11', '-0400]', '\\\\\"GET', '/shuttle/countdown/video/ltrevideo.gif', 'HTTP/1.0\\\\\"', '200', '0']\n",
      "['d104.aa.net', '-', '-', '[01/Jul/1995:00:00:13', '-0400]', '\\\\\"GET', '/shuttle/countdown/', 'HTTP/1.0\\\\\"', '200', '3985']\n",
      "['unicomp6.unicomp.net', '-', '-', '[01/Jul/1995:00:00:14', '-0400]', '\\\\\"GET', '/images/NASA-logosmall.gif', 'HTTP/1.0\\\\\"', '200', '786']\n",
      "['unicomp6.unicomp.net', '-', '-', '[01/Jul/1995:00:00:14', '-0400]', '\\\\\"GET', '/images/KSC-logosmall.gif', 'HTTP/1.0\\\\\"', '200', '1204']\n",
      "['d104.aa.net', '-', '-', '[01/Jul/1995:00:00:15', '-0400]', '\\\\\"GET', '/shuttle/countdown/', 'HTTP/1.0\\\\\"', '200', '3985']\n",
      "['burger.letters.com', '-', '-', '[01/Jul/1995:00:00:16', '-0400]', '\\\\\"GET', '/shuttle/countdown/video/ltrevideo.gif', 'HTTP/1.0\\\\\"', '200', '0']\n",
      "['burger.letters.com', '-', '-', '[01/Jul/1995:00:00:17', '-0400]', '\\\\\"GET', '/shuttle/countdown/video/ltrevideo.gif', 'HTTP/1.0\\\\\"', '200Â\\xa00']\n"
     ]
    }
   ],
   "source": [
    "f=open(\"load_dataset.txt\",\"r\")\n",
    "data = f.read()\n",
    "data = data.split(\"\\n\")\n",
    "for i in range(len(data)):\n",
    "    data[i] = data[i].split(\" \")\n",
    "\n",
    "for i in data:\n",
    "    print(i)\n",
    "\n",
    "d={}\n",
    "for i in data:\n",
    "    if(i[0] not in d):\n",
    "        d[i[0]]=1\n",
    "    else:\n",
    "        d[i[0]]+=1\n",
    "\n",
    "l1 = []\n",
    "for i in d:\n",
    "    l1.append(i + \" \" + str(d[i]))\n",
    "\n",
    "# print(l1)\n",
    "f.close()\n",
    "\n",
    "with open(\"result.txt\",\"w\") as file:\n",
    "    for i in l1:\n",
    "        file.write(str(i)+\"\\n\")\n",
    "file.close()"
   ]
  },
  {
   "cell_type": "code",
   "execution_count": null,
   "metadata": {},
   "outputs": [],
   "source": []
  }
 ],
 "metadata": {
  "kernelspec": {
   "display_name": "Python 3",
   "language": "python",
   "name": "python3"
  },
  "language_info": {
   "codemirror_mode": {
    "name": "ipython",
    "version": 3
   },
   "file_extension": ".py",
   "mimetype": "text/x-python",
   "name": "python",
   "nbconvert_exporter": "python",
   "pygments_lexer": "ipython3",
   "version": "3.11.9"
  }
 },
 "nbformat": 4,
 "nbformat_minor": 2
}
